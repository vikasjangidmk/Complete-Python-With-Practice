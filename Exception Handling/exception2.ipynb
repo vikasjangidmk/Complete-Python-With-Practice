{
 "cells": [
  {
   "cell_type": "markdown",
   "metadata": {},
   "source": [
    "### Nested block"
   ]
  },
  {
   "cell_type": "code",
   "execution_count": 5,
   "metadata": {},
   "outputs": [
    {
     "name": "stdout",
     "output_type": "stream",
     "text": [
      "This is my try block1\n",
      "This is my else block\n",
      "This is my else block3 try statement\n",
      "This is my finally block\n",
      "This is try block4 inside finally\n"
     ]
    }
   ],
   "source": [
    "try:\n",
    "    try:\n",
    "        print(\"This is my try block1\")\n",
    "    except:\n",
    "        print(\"This is my except block\")\n",
    "except:\n",
    "    print(\"This is my outer block\")\n",
    "    try:\n",
    "        print(\"This is try block2 inside except\")\n",
    "    except:\n",
    "        print(\"This is my except block inside except\")\n",
    "else:\n",
    "    print(\"This is my else block\")\n",
    "    try:\n",
    "        print(\"This is my else block3 try statement\")\n",
    "    except:\n",
    "        print(\"This is my except block inside else\")\n",
    "finally:\n",
    "    print(\"This is my finally block\")\n",
    "    try:\n",
    "        print(\"This is try block4 inside finally\")\n",
    "    except:\n",
    "        print(\"This is except block inside finally\")"
   ]
  },
  {
   "cell_type": "code",
   "execution_count": 8,
   "metadata": {},
   "outputs": [
    {
     "name": "stdout",
     "output_type": "stream",
     "text": [
      "This is my except block\n",
      "This is my else block3 try statement\n",
      "This is try block4 inside finally\n"
     ]
    }
   ],
   "source": [
    "try:\n",
    "    try:\n",
    "        a = 2\n",
    "        b = \"b\"\n",
    "        c = a+b\n",
    "        print(c)\n",
    "    except:\n",
    "        print(\"This is my except block\")\n",
    "except:\n",
    "    print(\"This is my outer block\")\n",
    "    try:\n",
    "        print(\"This is try block2 inside except\")\n",
    "    except:\n",
    "        print(\"This is my except block inside except\")\n",
    "else:\n",
    "    try:\n",
    "        print(\"This is my else block3 try statement\")\n",
    "    except:\n",
    "        print(\"This is my except block inside else\")\n",
    "finally:\n",
    "    try:\n",
    "        print(\"This is try block4 inside finally\")\n",
    "    except:\n",
    "        print(\"This is except block inside finally\")"
   ]
  },
  {
   "cell_type": "markdown",
   "metadata": {},
   "source": [
    "### Raise Keyword"
   ]
  },
  {
   "cell_type": "code",
   "execution_count": 9,
   "metadata": {},
   "outputs": [
    {
     "ename": "ZeroDivisionError",
     "evalue": "division by zero",
     "output_type": "error",
     "traceback": [
      "\u001b[1;31m---------------------------------------------------------------------------\u001b[0m",
      "\u001b[1;31mZeroDivisionError\u001b[0m                         Traceback (most recent call last)",
      "Cell \u001b[1;32mIn[9], line 3\u001b[0m\n\u001b[0;32m      1\u001b[0m a \u001b[38;5;241m=\u001b[39m \u001b[38;5;241m10\u001b[39m\n\u001b[0;32m      2\u001b[0m b \u001b[38;5;241m=\u001b[39m \u001b[38;5;241m0\u001b[39m\n\u001b[1;32m----> 3\u001b[0m c \u001b[38;5;241m=\u001b[39m \u001b[43ma\u001b[49m\u001b[38;5;241;43m/\u001b[39;49m\u001b[43mb\u001b[49m\n",
      "\u001b[1;31mZeroDivisionError\u001b[0m: division by zero"
     ]
    }
   ],
   "source": [
    "a = 10\n",
    "b = 0\n",
    "c = a/b"
   ]
  },
  {
   "cell_type": "code",
   "execution_count": 10,
   "metadata": {},
   "outputs": [
    {
     "name": "stdout",
     "output_type": "stream",
     "text": [
      "division by zero\n"
     ]
    }
   ],
   "source": [
    "try:\n",
    "    a = 10\n",
    "    b = 0\n",
    "    c = a/b\n",
    "except Exception as e:\n",
    "    print(e)"
   ]
  },
  {
   "cell_type": "code",
   "execution_count": 11,
   "metadata": {},
   "outputs": [
    {
     "ename": "ZeroDivisionError",
     "evalue": "",
     "output_type": "error",
     "traceback": [
      "\u001b[1;31m---------------------------------------------------------------------------\u001b[0m",
      "\u001b[1;31mZeroDivisionError\u001b[0m                         Traceback (most recent call last)",
      "Cell \u001b[1;32mIn[11], line 1\u001b[0m\n\u001b[1;32m----> 1\u001b[0m \u001b[38;5;28;01mraise\u001b[39;00m \u001b[38;5;167;01mZeroDivisionError\u001b[39;00m\n",
      "\u001b[1;31mZeroDivisionError\u001b[0m: "
     ]
    }
   ],
   "source": [
    "raise ZeroDivisionError"
   ]
  },
  {
   "cell_type": "code",
   "execution_count": 12,
   "metadata": {},
   "outputs": [
    {
     "ename": "ZeroDivisionError",
     "evalue": "Bhaiya hum divide nhi kr skte",
     "output_type": "error",
     "traceback": [
      "\u001b[1;31m---------------------------------------------------------------------------\u001b[0m",
      "\u001b[1;31mZeroDivisionError\u001b[0m                         Traceback (most recent call last)",
      "Cell \u001b[1;32mIn[12], line 1\u001b[0m\n\u001b[1;32m----> 1\u001b[0m \u001b[38;5;28;01mraise\u001b[39;00m \u001b[38;5;167;01mZeroDivisionError\u001b[39;00m(\u001b[38;5;124m\"\u001b[39m\u001b[38;5;124mBhaiya hum divide nhi kr skte\u001b[39m\u001b[38;5;124m\"\u001b[39m)\n",
      "\u001b[1;31mZeroDivisionError\u001b[0m: Bhaiya hum divide nhi kr skte"
     ]
    }
   ],
   "source": [
    "raise ZeroDivisionError(\"Bhaiya hum divide nhi kr skte\")"
   ]
  },
  {
   "cell_type": "code",
   "execution_count": 13,
   "metadata": {},
   "outputs": [
    {
     "name": "stdout",
     "output_type": "stream",
     "text": [
      "y ki value 4 hai\n"
     ]
    }
   ],
   "source": [
    "y = 4\n",
    "try:\n",
    "    if y == 4:\n",
    "        raise ZeroDivisionError(\"y ki value 4 hai\")\n",
    "except Exception as e:\n",
    "    print(e)"
   ]
  },
  {
   "cell_type": "code",
   "execution_count": 14,
   "metadata": {},
   "outputs": [
    {
     "name": "stdout",
     "output_type": "stream",
     "text": [
      "y ki value 4 hai\n"
     ]
    }
   ],
   "source": [
    "y = 4\n",
    "try:\n",
    "    if y == 4:\n",
    "        raise FileNotFoundError(\"y ki value 4 hai\")\n",
    "except Exception as e:\n",
    "    print(e)"
   ]
  },
  {
   "cell_type": "markdown",
   "metadata": {},
   "source": [
    "### Where"
   ]
  },
  {
   "cell_type": "code",
   "execution_count": 1,
   "metadata": {},
   "outputs": [
    {
     "name": "stdout",
     "output_type": "stream",
     "text": [
      "Error occured\n"
     ]
    }
   ],
   "source": [
    "def div(x,y):\n",
    "    if y == 0:\n",
    "        raise ZeroDivisionError(\"Error occured\")\n",
    "    \n",
    "try:\n",
    "    div(3,0)\n",
    "except Exception as e:\n",
    "    print(e)"
   ]
  },
  {
   "cell_type": "code",
   "execution_count": 4,
   "metadata": {},
   "outputs": [
    {
     "name": "stdout",
     "output_type": "stream",
     "text": [
      "This is another error\n"
     ]
    }
   ],
   "source": [
    "def div(x,y):\n",
    "    if y == 0:\n",
    "        raise ZeroDivisionError(\"Error occured\")\n",
    "    \n",
    "try:\n",
    "    raise ZeroDivisionError(\"This is another error\")\n",
    "    div(3,0)\n",
    "    #raise ZeroDivisionError(\"This is another error\")\n",
    "except Exception as e:\n",
    "    print(e)"
   ]
  },
  {
   "cell_type": "code",
   "execution_count": 6,
   "metadata": {},
   "outputs": [
    {
     "name": "stdout",
     "output_type": "stream",
     "text": [
      "10.0\n",
      "5.0\n",
      "3.3333333333333335\n",
      "2.5\n",
      "2.0\n"
     ]
    }
   ],
   "source": [
    "l = [1,2,3,4,5,0]\n",
    "for i in l:\n",
    "    try:\n",
    "        print(10/i)\n",
    "    except:\n",
    "        pass"
   ]
  },
  {
   "cell_type": "code",
   "execution_count": 8,
   "metadata": {},
   "outputs": [
    {
     "name": "stdout",
     "output_type": "stream",
     "text": [
      "10.0\n",
      "y to run hoga hi\n",
      "5.0\n",
      "y to run hoga hi\n",
      "3.3333333333333335\n",
      "y to run hoga hi\n",
      "2.5\n",
      "y to run hoga hi\n",
      "2.0\n",
      "y to run hoga hi\n",
      "y to run hoga hi\n"
     ]
    }
   ],
   "source": [
    "l = [1,2,3,4,5,0]\n",
    "for i in l:\n",
    "    try:\n",
    "        print(10/i)\n",
    "    except ZeroDivisionError as e:\n",
    "        pass\n",
    "    except ValueError as e:\n",
    "        raise\n",
    "    finally:\n",
    "        print(\"y to run hoga hi\")\n",
    "        "
   ]
  },
  {
   "cell_type": "code",
   "execution_count": 9,
   "metadata": {},
   "outputs": [
    {
     "name": "stdout",
     "output_type": "stream",
     "text": [
      "10.0\n",
      "y to run hoga hi\n",
      "5.0\n",
      "y to run hoga hi\n",
      "3.3333333333333335\n",
      "y to run hoga hi\n",
      "2.5\n",
      "y to run hoga hi\n",
      "2.0\n",
      "y to run hoga hi\n",
      "y to run hoga hi\n"
     ]
    }
   ],
   "source": [
    "l = [1,2,3,4,5,0]\n",
    "for i in l:\n",
    "    try:\n",
    "        print(10/int(i))\n",
    "    except ZeroDivisionError as e:\n",
    "        pass\n",
    "    except ValueError as e:\n",
    "        raise\n",
    "    except TypeError as e:\n",
    "        raise\n",
    "    finally:\n",
    "        print(\"y to run hoga hi\")\n",
    "        "
   ]
  },
  {
   "cell_type": "code",
   "execution_count": 10,
   "metadata": {},
   "outputs": [
    {
     "name": "stdout",
     "output_type": "stream",
     "text": [
      "Error Occured\n"
     ]
    }
   ],
   "source": [
    "def fun(x,y):\n",
    "    if y == 0:\n",
    "        raise ZeroDivisionError(\"Error Occured\")\n",
    "    return x/y\n",
    "\n",
    "try:\n",
    "    fun(10,0)\n",
    "    raise ZeroDivisionError(\"This is my another error\")\n",
    "\n",
    "except Exception as e:\n",
    "    print(e)"
   ]
  },
  {
   "cell_type": "code",
   "execution_count": 11,
   "metadata": {},
   "outputs": [
    {
     "name": "stdout",
     "output_type": "stream",
     "text": [
      "Error Occured\n"
     ]
    }
   ],
   "source": [
    "def fun(x,y):\n",
    "    if y == 0:\n",
    "        raise ZeroDivisionError(\"Error Occured\")\n",
    "    return x/y\n",
    "\n",
    "try:\n",
    "    fun(10,0)\n",
    "    raise TypeError(\"This is my another error\")\n",
    "\n",
    "except Exception as e:\n",
    "    print(e)"
   ]
  },
  {
   "cell_type": "code",
   "execution_count": 13,
   "metadata": {},
   "outputs": [
    {
     "name": "stdout",
     "output_type": "stream",
     "text": [
      "Error Occured\n"
     ]
    }
   ],
   "source": [
    "def fun(x,y):\n",
    "    if y == 0:\n",
    "        raise MeraError(\"Error Occured\")\n",
    "    return x/y\n",
    "\n",
    "try:\n",
    "    fun(10,0)\n",
    "    raise MeraError(\"This is my another error\")\n",
    "\n",
    "except Exception as e:\n",
    "    print(e)"
   ]
  },
  {
   "cell_type": "code",
   "execution_count": 12,
   "metadata": {},
   "outputs": [
    {
     "name": "stdout",
     "output_type": "stream",
     "text": [
      "Error Occured\n"
     ]
    }
   ],
   "source": [
    "class MeraError(Exception):\n",
    "    pass\n",
    "\n",
    "def fun(x,y):\n",
    "    if y == 0:\n",
    "        raise MeraError(\"Error Occured\")\n",
    "    return x/y\n",
    "\n",
    "try:\n",
    "    fun(10,0)\n",
    "    raise MeraError(\"This is my another error\")\n",
    "\n",
    "except Exception as e:\n",
    "    print(e)"
   ]
  },
  {
   "cell_type": "code",
   "execution_count": 14,
   "metadata": {},
   "outputs": [
    {
     "name": "stdout",
     "output_type": "stream",
     "text": [
      "Error Occured\n"
     ]
    }
   ],
   "source": [
    "class MeraError(Exception):\n",
    "    def __init__(self,message = \"Yeh mera default error message hai\"):\n",
    "        self.message = message\n",
    "        super().__init__(self.message)\n",
    "\n",
    "def fun(x,y):\n",
    "    if y == 0:\n",
    "        raise MeraError(\"Error Occured\")\n",
    "    return x/y\n",
    "\n",
    "try:\n",
    "    fun(10,0)\n",
    "    raise MeraError(\"This is my another error\")\n",
    "\n",
    "except Exception as e:\n",
    "    print(e)"
   ]
  },
  {
   "cell_type": "code",
   "execution_count": 15,
   "metadata": {},
   "outputs": [
    {
     "name": "stdout",
     "output_type": "stream",
     "text": [
      "Error: Cannot calculate average score with zero quiz scores.\n"
     ]
    }
   ],
   "source": [
    "def calculate_score(quiz_scores):\n",
    "    total_score = 0\n",
    "    try:\n",
    "        for score in quiz_scores:\n",
    "            total_score += int(score)\n",
    "            quiz_scores.upper()\n",
    "    except AttributeError:\n",
    "        print(\"Error: Object does not have iterable behavior.\")\n",
    "    except ValueError:\n",
    "        print(\"Error: Invalid score detected. Skipping this entry.\")\n",
    "    except TypeError:\n",
    "        print(\"Error: Quiz scores must be provided as a list or iterable.\")\n",
    "    except IndexError:\n",
    "        print(\"Error: Index out of range. Check the length of the quiz scores list.\")\n",
    "    except AttributeError:\n",
    "        print(\"Error: Object does not have iterable behavior.\")\n",
    "    else:\n",
    "        if len(quiz_scores) == 0:\n",
    "            print(\"Error: Cannot calculate average score with zero quiz scores.\")\n",
    "        else:\n",
    "            average_score = total_score / len(quiz_scores)\n",
    "            print(\"Average score:\", average_score)\n",
    "        \n",
    "\n",
    "# quiz_scores = [1,2,3]\n",
    "quiz_scores = []\n",
    "#quiz_scores.upper()\n",
    "\n",
    "\n",
    "calculate_score(quiz_scores)\n",
    "\n",
    "\n",
    "#how to prevent the zero division error here \n",
    "# type error \n",
    "# value error \n",
    "# attribute error\n",
    "\n",
    "\n",
    "\n",
    "# HW : zero error \n",
    "# type :"
   ]
  },
  {
   "cell_type": "markdown",
   "metadata": {},
   "source": [
    "### **Exception Changing**"
   ]
  },
  {
   "cell_type": "code",
   "execution_count": 16,
   "metadata": {},
   "outputs": [
    {
     "ename": "ValueError",
     "evalue": "This is my chaning error",
     "output_type": "error",
     "traceback": [
      "\u001b[1;31m---------------------------------------------------------------------------\u001b[0m",
      "\u001b[1;31mZeroDivisionError\u001b[0m                         Traceback (most recent call last)",
      "Cell \u001b[1;32mIn[16], line 4\u001b[0m\n\u001b[0;32m      3\u001b[0m     b \u001b[38;5;241m=\u001b[39m \u001b[38;5;241m0\u001b[39m\n\u001b[1;32m----> 4\u001b[0m     c \u001b[38;5;241m=\u001b[39m \u001b[43ma\u001b[49m\u001b[38;5;241;43m/\u001b[39;49m\u001b[43mb\u001b[49m\n\u001b[0;32m      6\u001b[0m \u001b[38;5;28;01mexcept\u001b[39;00m \u001b[38;5;167;01mZeroDivisionError\u001b[39;00m \u001b[38;5;28;01mas\u001b[39;00m e:\n\u001b[0;32m      7\u001b[0m     \u001b[38;5;66;03m#print(e)\u001b[39;00m\n",
      "\u001b[1;31mZeroDivisionError\u001b[0m: division by zero",
      "\nThe above exception was the direct cause of the following exception:\n",
      "\u001b[1;31mValueError\u001b[0m                                Traceback (most recent call last)",
      "Cell \u001b[1;32mIn[16], line 8\u001b[0m\n\u001b[0;32m      4\u001b[0m     c \u001b[38;5;241m=\u001b[39m a\u001b[38;5;241m/\u001b[39mb\n\u001b[0;32m      6\u001b[0m \u001b[38;5;28;01mexcept\u001b[39;00m \u001b[38;5;167;01mZeroDivisionError\u001b[39;00m \u001b[38;5;28;01mas\u001b[39;00m e:\n\u001b[0;32m      7\u001b[0m     \u001b[38;5;66;03m#print(e)\u001b[39;00m\n\u001b[1;32m----> 8\u001b[0m     \u001b[38;5;28;01mraise\u001b[39;00m \u001b[38;5;167;01mValueError\u001b[39;00m(\u001b[38;5;124m\"\u001b[39m\u001b[38;5;124mThis is my chaning error\u001b[39m\u001b[38;5;124m\"\u001b[39m) \u001b[38;5;28;01mfrom\u001b[39;00m\u001b[38;5;250m \u001b[39m\u001b[38;5;21;01me\u001b[39;00m\n",
      "\u001b[1;31mValueError\u001b[0m: This is my chaning error"
     ]
    }
   ],
   "source": [
    "try:\n",
    "    a = 3\n",
    "    b = 0\n",
    "    c = a/b\n",
    "    \n",
    "except ZeroDivisionError as e:\n",
    "    #print(e)\n",
    "    raise ValueError(\"This is my chaning error\") from e"
   ]
  },
  {
   "cell_type": "code",
   "execution_count": 17,
   "metadata": {},
   "outputs": [
    {
     "ename": "Exception",
     "evalue": "This is my chaning error",
     "output_type": "error",
     "traceback": [
      "\u001b[1;31m---------------------------------------------------------------------------\u001b[0m",
      "\u001b[1;31mZeroDivisionError\u001b[0m                         Traceback (most recent call last)",
      "Cell \u001b[1;32mIn[17], line 4\u001b[0m\n\u001b[0;32m      3\u001b[0m     b \u001b[38;5;241m=\u001b[39m \u001b[38;5;241m0\u001b[39m\n\u001b[1;32m----> 4\u001b[0m     c \u001b[38;5;241m=\u001b[39m \u001b[43ma\u001b[49m\u001b[38;5;241;43m/\u001b[39;49m\u001b[43mb\u001b[49m\n\u001b[0;32m      6\u001b[0m \u001b[38;5;28;01mexcept\u001b[39;00m \u001b[38;5;167;01mZeroDivisionError\u001b[39;00m \u001b[38;5;28;01mas\u001b[39;00m e:\n\u001b[0;32m      7\u001b[0m     \u001b[38;5;66;03m#print(e)\u001b[39;00m\n",
      "\u001b[1;31mZeroDivisionError\u001b[0m: division by zero",
      "\nThe above exception was the direct cause of the following exception:\n",
      "\u001b[1;31mException\u001b[0m                                 Traceback (most recent call last)",
      "Cell \u001b[1;32mIn[17], line 8\u001b[0m\n\u001b[0;32m      4\u001b[0m     c \u001b[38;5;241m=\u001b[39m a\u001b[38;5;241m/\u001b[39mb\n\u001b[0;32m      6\u001b[0m \u001b[38;5;28;01mexcept\u001b[39;00m \u001b[38;5;167;01mZeroDivisionError\u001b[39;00m \u001b[38;5;28;01mas\u001b[39;00m e:\n\u001b[0;32m      7\u001b[0m     \u001b[38;5;66;03m#print(e)\u001b[39;00m\n\u001b[1;32m----> 8\u001b[0m     \u001b[38;5;28;01mraise\u001b[39;00m \u001b[38;5;167;01mException\u001b[39;00m(\u001b[38;5;124m\"\u001b[39m\u001b[38;5;124mThis is my chaning error\u001b[39m\u001b[38;5;124m\"\u001b[39m) \u001b[38;5;28;01mfrom\u001b[39;00m\u001b[38;5;250m \u001b[39m\u001b[38;5;21;01me\u001b[39;00m\n",
      "\u001b[1;31mException\u001b[0m: This is my chaning error"
     ]
    }
   ],
   "source": [
    "try:\n",
    "    a = 3\n",
    "    b = 0\n",
    "    c = a/b\n",
    "    \n",
    "except ZeroDivisionError as e:\n",
    "    #print(e)\n",
    "    raise Exception(\"This is my chaning error\") from e"
   ]
  },
  {
   "cell_type": "code",
   "execution_count": 19,
   "metadata": {},
   "outputs": [
    {
     "ename": "RuntimeError",
     "evalue": "This is my runtime error",
     "output_type": "error",
     "traceback": [
      "\u001b[1;31m---------------------------------------------------------------------------\u001b[0m",
      "\u001b[1;31mFileNotFoundError\u001b[0m                         Traceback (most recent call last)",
      "Cell \u001b[1;32mIn[19], line 2\u001b[0m\n\u001b[0;32m      1\u001b[0m \u001b[38;5;28;01mtry\u001b[39;00m:\n\u001b[1;32m----> 2\u001b[0m     \u001b[38;5;28;43mopen\u001b[39;49m\u001b[43m(\u001b[49m\u001b[38;5;124;43m\"\u001b[39;49m\u001b[38;5;124;43mfile.txt\u001b[39;49m\u001b[38;5;124;43m\"\u001b[39;49m\u001b[43m)\u001b[49m\n\u001b[0;32m      3\u001b[0m \u001b[38;5;28;01mexcept\u001b[39;00m \u001b[38;5;167;01mOSError\u001b[39;00m \u001b[38;5;28;01mas\u001b[39;00m exc:\n",
      "File \u001b[1;32mc:\\Users\\vikas\\OneDrive\\Desktop\\Complete-Python-With-Practice\\PYTHON\\lib\\site-packages\\IPython\\core\\interactiveshell.py:324\u001b[0m, in \u001b[0;36m_modified_open\u001b[1;34m(file, *args, **kwargs)\u001b[0m\n\u001b[0;32m    318\u001b[0m     \u001b[38;5;28;01mraise\u001b[39;00m \u001b[38;5;167;01mValueError\u001b[39;00m(\n\u001b[0;32m    319\u001b[0m         \u001b[38;5;124mf\u001b[39m\u001b[38;5;124m\"\u001b[39m\u001b[38;5;124mIPython won\u001b[39m\u001b[38;5;124m'\u001b[39m\u001b[38;5;124mt let you open fd=\u001b[39m\u001b[38;5;132;01m{\u001b[39;00mfile\u001b[38;5;132;01m}\u001b[39;00m\u001b[38;5;124m by default \u001b[39m\u001b[38;5;124m\"\u001b[39m\n\u001b[0;32m    320\u001b[0m         \u001b[38;5;124m\"\u001b[39m\u001b[38;5;124mas it is likely to crash IPython. If you know what you are doing, \u001b[39m\u001b[38;5;124m\"\u001b[39m\n\u001b[0;32m    321\u001b[0m         \u001b[38;5;124m\"\u001b[39m\u001b[38;5;124myou can use builtins\u001b[39m\u001b[38;5;124m'\u001b[39m\u001b[38;5;124m open.\u001b[39m\u001b[38;5;124m\"\u001b[39m\n\u001b[0;32m    322\u001b[0m     )\n\u001b[1;32m--> 324\u001b[0m \u001b[38;5;28;01mreturn\u001b[39;00m io_open(file, \u001b[38;5;241m*\u001b[39margs, \u001b[38;5;241m*\u001b[39m\u001b[38;5;241m*\u001b[39mkwargs)\n",
      "\u001b[1;31mFileNotFoundError\u001b[0m: [Errno 2] No such file or directory: 'file.txt'",
      "\nThe above exception was the direct cause of the following exception:\n",
      "\u001b[1;31mRuntimeError\u001b[0m                              Traceback (most recent call last)",
      "Cell \u001b[1;32mIn[19], line 4\u001b[0m\n\u001b[0;32m      2\u001b[0m     \u001b[38;5;28mopen\u001b[39m(\u001b[38;5;124m\"\u001b[39m\u001b[38;5;124mfile.txt\u001b[39m\u001b[38;5;124m\"\u001b[39m)\n\u001b[0;32m      3\u001b[0m \u001b[38;5;28;01mexcept\u001b[39;00m \u001b[38;5;167;01mOSError\u001b[39;00m \u001b[38;5;28;01mas\u001b[39;00m exc:\n\u001b[1;32m----> 4\u001b[0m     \u001b[38;5;28;01mraise\u001b[39;00m \u001b[38;5;167;01mRuntimeError\u001b[39;00m(\u001b[38;5;124m\"\u001b[39m\u001b[38;5;124mThis is my runtime error\u001b[39m\u001b[38;5;124m\"\u001b[39m) \u001b[38;5;28;01mfrom\u001b[39;00m\u001b[38;5;250m \u001b[39m\u001b[38;5;21;01mexc\u001b[39;00m\n",
      "\u001b[1;31mRuntimeError\u001b[0m: This is my runtime error"
     ]
    }
   ],
   "source": [
    "try:\n",
    "    open(\"file.txt\")\n",
    "except OSError as exc:\n",
    "    raise RuntimeError(\"This is my runtime error\") from exc"
   ]
  },
  {
   "cell_type": "markdown",
   "metadata": {},
   "source": [
    "### **Trace-Back**"
   ]
  },
  {
   "cell_type": "code",
   "execution_count": 20,
   "metadata": {},
   "outputs": [
    {
     "name": "stdout",
     "output_type": "stream",
     "text": [
      "Second error occured\n"
     ]
    },
    {
     "name": "stderr",
     "output_type": "stream",
     "text": [
      "NoneType: None\n"
     ]
    }
   ],
   "source": [
    "import traceback\n",
    "\n",
    "def func1():\n",
    "    func2\n",
    "    \n",
    "    \n",
    "def func2():\n",
    "    raise Exception(\"An Error is Occured\")\n",
    "    \n",
    "    \n",
    "try:\n",
    "    func1()\n",
    "    print(\"Second error occured\")\n",
    "    traceback.print_exc()\n",
    "except Exception as e:\n",
    "    print(e)"
   ]
  },
  {
   "cell_type": "code",
   "execution_count": 3,
   "metadata": {},
   "outputs": [],
   "source": [
    "import traceback\n",
    "\n",
    "def fun1():\n",
    "    fun2\n",
    "    \n",
    "    \n",
    "def fun2():\n",
    "    raise Exception(\"An Error is Occured\")\n",
    "    \n",
    "    \n",
    "try:\n",
    "    fun1()\n",
    "except Exception:\n",
    "\n",
    "    print(\"Second error occured\")\n",
    "    traceback.print_exc()\n"
   ]
  },
  {
   "cell_type": "code",
   "execution_count": 4,
   "metadata": {},
   "outputs": [
    {
     "name": "stdout",
     "output_type": "stream",
     "text": [
      "The End\n"
     ]
    }
   ],
   "source": [
    "print(\"The End\")"
   ]
  }
 ],
 "metadata": {
  "kernelspec": {
   "display_name": "Python 3",
   "language": "python",
   "name": "python3"
  },
  "language_info": {
   "codemirror_mode": {
    "name": "ipython",
    "version": 3
   },
   "file_extension": ".py",
   "mimetype": "text/x-python",
   "name": "python",
   "nbconvert_exporter": "python",
   "pygments_lexer": "ipython3",
   "version": "3.10.0"
  }
 },
 "nbformat": 4,
 "nbformat_minor": 2
}
