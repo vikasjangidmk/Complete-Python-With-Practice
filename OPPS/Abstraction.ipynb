{
 "cells": [
  {
   "cell_type": "markdown",
   "metadata": {},
   "source": [
    "1. What is abstraction?\n",
    "2. why we need to use abstraction?\n",
    "3. where to use the abstraction?\n",
    "4. How to use the abstraction?\n",
    "5. what is decorater in python?\n",
    "6. where we are using decorater?\n",
    "7. How to use the decoraater?\n",
    "8. Property decorater in python?\n"
   ]
  },
  {
   "cell_type": "code",
   "execution_count": 1,
   "metadata": {},
   "outputs": [],
   "source": [
    "from abc import ABC, abstractmethod\n",
    "\n",
    "class shape(ABC):\n",
    "    \n",
    "    def database(self):\n",
    "        pass\n",
    "    \n",
    "    @abstractmethod\n",
    "    def display(self):\n",
    "        pass"
   ]
  },
  {
   "cell_type": "code",
   "execution_count": 2,
   "metadata": {},
   "outputs": [],
   "source": [
    "import abc\n",
    "\n",
    "class ineuron:\n",
    "    \n",
    "    @abc.abstractmethod\n",
    "    def student(self):\n",
    "        pass\n",
    "    "
   ]
  },
  {
   "cell_type": "code",
   "execution_count": 3,
   "metadata": {},
   "outputs": [],
   "source": [
    "import abc\n",
    "\n",
    "class ineuron:\n",
    "    \n",
    "    @abc.abstractmethod\n",
    "    def student(self):\n",
    "        pass\n",
    "    \n",
    "    \n",
    "    @abc.abstractmethod\n",
    "    def student_marks(self):\n",
    "        pass\n",
    "    \n",
    "    @abc.abstractmethod\n",
    "    def student_details(self):\n",
    "        pass"
   ]
  },
  {
   "cell_type": "code",
   "execution_count": 7,
   "metadata": {},
   "outputs": [],
   "source": [
    "# use: 1 . Stracture and 2. Hide the implementation"
   ]
  },
  {
   "cell_type": "code",
   "execution_count": 5,
   "metadata": {},
   "outputs": [],
   "source": [
    "p = ineuron()"
   ]
  },
  {
   "cell_type": "code",
   "execution_count": 6,
   "metadata": {},
   "outputs": [],
   "source": [
    "class student_details(ineuron):\n",
    "    def student_details(self):\n",
    "        return \"This is my student details related work\"\n",
    "    \n",
    "    def student_marks(self):\n",
    "        return \"This is my student marks related work\"\n",
    "    \n",
    "    def student(self):\n",
    "        return \"This is my student related work\""
   ]
  },
  {
   "cell_type": "code",
   "execution_count": 20,
   "metadata": {},
   "outputs": [],
   "source": [
    "from abc import ABC,abstractmethod\n",
    "\n",
    "class person(ABC):\n",
    "    \n",
    "    def __init__(self,name,age):\n",
    "        self.name = name\n",
    "        self.age = age\n",
    "        \n",
    "    def display_info(self):\n",
    "        print(self.name)\n",
    "        print(self.age)\n",
    "        \n",
    "    @abstractmethod\n",
    "    def work(self):\n",
    "        pass\n",
    "    \n",
    "    @abstractmethod\n",
    "    def speak(self):\n",
    "        pass        "
   ]
  },
  {
   "cell_type": "code",
   "execution_count": 21,
   "metadata": {},
   "outputs": [],
   "source": [
    "class Employee(person):\n",
    "    \n",
    "    def trial(self):\n",
    "        print(\"This is for trial baseis\")\n",
    "        \n",
    "    def speak(self):\n",
    "        print(\"This is for speak basis\")\n",
    "        \n",
    "    def work(self):\n",
    "        print(\"This is for work basies\")"
   ]
  },
  {
   "cell_type": "code",
   "execution_count": 22,
   "metadata": {},
   "outputs": [],
   "source": [
    "e = Employee(\"Vikas\",23)"
   ]
  },
  {
   "cell_type": "markdown",
   "metadata": {},
   "source": [
    "# **Decoraters**"
   ]
  },
  {
   "cell_type": "code",
   "execution_count": 23,
   "metadata": {},
   "outputs": [],
   "source": [
    "def hello():\n",
    "    print(\"Hello world\")"
   ]
  },
  {
   "cell_type": "code",
   "execution_count": 25,
   "metadata": {},
   "outputs": [
    {
     "name": "stdout",
     "output_type": "stream",
     "text": [
      "Hello world\n"
     ]
    }
   ],
   "source": [
    "hello()"
   ]
  },
  {
   "cell_type": "code",
   "execution_count": 30,
   "metadata": {},
   "outputs": [
    {
     "name": "stdout",
     "output_type": "stream",
     "text": [
      "*************\n",
      "Hello world\n",
      "@@@@@@@@@@@@@@@@@\n"
     ]
    }
   ],
   "source": [
    "def mydec(func):\n",
    "    \n",
    "    def inner():\n",
    "        print(\"*************\")\n",
    "        func()\n",
    "        print(\"@@@@@@@@@@@@@@@@@\")\n",
    "        \n",
    "    return inner\n",
    "\n",
    "def hello():\n",
    "    print(\"Hello world\")\n",
    "    \n",
    "    \n",
    "a = mydec(hello)\n",
    "a()\n",
    "    "
   ]
  },
  {
   "cell_type": "code",
   "execution_count": 31,
   "metadata": {},
   "outputs": [],
   "source": [
    "def mydec(func):\n",
    "    \n",
    "    def inner():\n",
    "        print(\"*************\")\n",
    "        func()\n",
    "        print(\"@@@@@@@@@@@@@@@@@\")\n",
    "        \n",
    "    return inner\n",
    "\n",
    "@mydec\n",
    "def hello():\n",
    "    print(\"Hello world\")\n",
    "    \n",
    "    "
   ]
  },
  {
   "cell_type": "code",
   "execution_count": 32,
   "metadata": {},
   "outputs": [
    {
     "name": "stdout",
     "output_type": "stream",
     "text": [
      "*************\n",
      "Hello world\n",
      "@@@@@@@@@@@@@@@@@\n"
     ]
    }
   ],
   "source": [
    "hello()"
   ]
  },
  {
   "cell_type": "code",
   "execution_count": 34,
   "metadata": {},
   "outputs": [
    {
     "name": "stdout",
     "output_type": "stream",
     "text": [
      "*************\n",
      "This is my second hello world\n",
      "@@@@@@@@@@@@@@@@@\n"
     ]
    }
   ],
   "source": [
    "@mydec\n",
    "def hello1():\n",
    "    print(\"This is my second hello world\")\n",
    "    \n",
    "hello1()"
   ]
  },
  {
   "cell_type": "code",
   "execution_count": 1,
   "metadata": {},
   "outputs": [
    {
     "name": "stdout",
     "output_type": "stream",
     "text": [
      "68\n"
     ]
    }
   ],
   "source": [
    "def test2():\n",
    "    print(23+45)\n",
    "    \n",
    "test2()"
   ]
  },
  {
   "cell_type": "code",
   "execution_count": 2,
   "metadata": {},
   "outputs": [
    {
     "name": "stdout",
     "output_type": "stream",
     "text": [
      "68\n",
      "0.0\n"
     ]
    }
   ],
   "source": [
    "import time\n",
    "\n",
    "def timer_func(func):\n",
    "    def time_test_inner():\n",
    "        start = time.time()\n",
    "        func()\n",
    "        end = time.time()\n",
    "        print(end-start)\n",
    "    return time_test_inner\n",
    "\n",
    "@timer_func\n",
    "def test2():\n",
    "    print(23+45)\n",
    "    \n",
    "test2()"
   ]
  },
  {
   "cell_type": "code",
   "execution_count": 3,
   "metadata": {},
   "outputs": [
    {
     "data": {
      "text/plain": [
       "3"
      ]
     },
     "execution_count": 3,
     "metadata": {},
     "output_type": "execute_result"
    }
   ],
   "source": [
    "def square(x):\n",
    "    return x\n",
    "\n",
    "square(3)\n",
    "    "
   ]
  },
  {
   "cell_type": "code",
   "execution_count": 7,
   "metadata": {},
   "outputs": [
    {
     "data": {
      "text/plain": [
       "9"
      ]
     },
     "execution_count": 7,
     "metadata": {},
     "output_type": "execute_result"
    }
   ],
   "source": [
    "def square_deco(func):\n",
    "    def inner(*args):\n",
    "        result = func(*args)\n",
    "        return result ** 2\n",
    "    return inner\n",
    "\n",
    "@square_deco\n",
    "def square(x):\n",
    "    return x\n",
    "\n",
    "square(3)"
   ]
  },
  {
   "cell_type": "markdown",
   "metadata": {},
   "source": [
    "## Property Decorater"
   ]
  },
  {
   "cell_type": "code",
   "execution_count": 10,
   "metadata": {},
   "outputs": [],
   "source": [
    "class ineuron:\n",
    "    def __init__(self,course_name,course_price):\n",
    "        self.__course_name = course_name\n",
    "        self.course_price = course_price"
   ]
  },
  {
   "cell_type": "code",
   "execution_count": 11,
   "metadata": {},
   "outputs": [
    {
     "ename": "AttributeError",
     "evalue": "'ineuron' object has no attribute 'course_name'",
     "output_type": "error",
     "traceback": [
      "\u001b[1;31m---------------------------------------------------------------------------\u001b[0m",
      "\u001b[1;31mAttributeError\u001b[0m                            Traceback (most recent call last)",
      "Cell \u001b[1;32mIn[11], line 2\u001b[0m\n\u001b[0;32m      1\u001b[0m n \u001b[38;5;241m=\u001b[39m ineuron(\u001b[38;5;124m\"\u001b[39m\u001b[38;5;124mData Science\u001b[39m\u001b[38;5;124m\"\u001b[39m,\u001b[38;5;241m36000\u001b[39m)\n\u001b[1;32m----> 2\u001b[0m \u001b[43mn\u001b[49m\u001b[38;5;241;43m.\u001b[39;49m\u001b[43mcourse_name\u001b[49m\n",
      "\u001b[1;31mAttributeError\u001b[0m: 'ineuron' object has no attribute 'course_name'"
     ]
    }
   ],
   "source": [
    "n = ineuron(\"Data Science\",36000)\n",
    "n.course_name"
   ]
  },
  {
   "cell_type": "code",
   "execution_count": 14,
   "metadata": {},
   "outputs": [],
   "source": [
    "# Private document access\n",
    "class ineuron:\n",
    "    def __init__(self,course_name,course_price):\n",
    "        self.__course_name = course_name\n",
    "        self.course_price = course_price\n",
    "        \n",
    "    @property\n",
    "    def course_name(self):\n",
    "        return self.__course_name"
   ]
  },
  {
   "cell_type": "code",
   "execution_count": 15,
   "metadata": {},
   "outputs": [
    {
     "data": {
      "text/plain": [
       "'Data Science'"
      ]
     },
     "execution_count": 15,
     "metadata": {},
     "output_type": "execute_result"
    }
   ],
   "source": [
    "n = ineuron(\"Data Science\",36000)\n",
    "n.course_name"
   ]
  },
  {
   "cell_type": "code",
   "execution_count": 16,
   "metadata": {},
   "outputs": [],
   "source": [
    "# Private document access with setter\n",
    "class Ineuron:\n",
    "    def __init__(self, course_name, course_price):\n",
    "        self.__course_name = course_name\n",
    "        self.__course_price = course_price  # Fixed the private attribute assignment\n",
    "\n",
    "    @property\n",
    "    def course_name(self):\n",
    "        return self.__course_name\n",
    "\n",
    "    @property\n",
    "    def course_price_access(self):\n",
    "        return self.__course_price  # Added getter for course_price_access\n",
    "\n",
    "    @course_price_access.setter\n",
    "    def course_price_access(self, price):\n",
    "        if price < 0:\n",
    "            raise ValueError(\"Price cannot be negative\")  # Proper error handling\n",
    "        else:\n",
    "            self.__course_price = price\n"
   ]
  },
  {
   "cell_type": "code",
   "execution_count": 17,
   "metadata": {},
   "outputs": [
    {
     "data": {
      "text/plain": [
       "'Data Science'"
      ]
     },
     "execution_count": 17,
     "metadata": {},
     "output_type": "execute_result"
    }
   ],
   "source": [
    "n = ineuron(\"Data Science\", 323232)\n",
    "n.course_name"
   ]
  },
  {
   "cell_type": "code",
   "execution_count": 19,
   "metadata": {},
   "outputs": [],
   "source": [
    "class ineuron:\n",
    "    def __init__(self,course_price,course_name):\n",
    "        self.__course_price = course_price\n",
    "        self.course_name = course_name\n",
    "        \n",
    "    @property\n",
    "    def course_price_access(self):\n",
    "        return self.__course_price\n",
    "    \n",
    "    @course_price_access.setter\n",
    "    def course_price_access(self,price):\n",
    "        if price < 0:\n",
    "            pass\n",
    "        else:\n",
    "            self.__course_price = price"
   ]
  },
  {
   "cell_type": "code",
   "execution_count": 20,
   "metadata": {},
   "outputs": [],
   "source": [
    "n = ineuron(\"Data Science\", 43232)\n",
    "n.course_name = 234"
   ]
  },
  {
   "cell_type": "code",
   "execution_count": 23,
   "metadata": {},
   "outputs": [
    {
     "data": {
      "text/plain": [
       "234"
      ]
     },
     "execution_count": 23,
     "metadata": {},
     "output_type": "execute_result"
    }
   ],
   "source": [
    "n.course_name"
   ]
  },
  {
   "cell_type": "code",
   "execution_count": 24,
   "metadata": {},
   "outputs": [],
   "source": [
    "class ineuron:\n",
    "    def __init__(self,course_price,course_name):\n",
    "        self.__course_price = course_price\n",
    "        self.course_name = course_name\n",
    "        \n",
    "    @property\n",
    "    def course_price_access(self):\n",
    "        return self.__course_price\n",
    "    \n",
    "    @course_price_access.setter\n",
    "    def course_price_access(self,price):\n",
    "        if price < 0:\n",
    "            pass\n",
    "        else:\n",
    "            self.__course_price = price\n",
    "            \n",
    "    @course_price_access.deleter\n",
    "    def course_price_access(self):\n",
    "        del self.__course_price"
   ]
  },
  {
   "cell_type": "code",
   "execution_count": 25,
   "metadata": {},
   "outputs": [],
   "source": [
    "n = ineuron(\"Data Science\", 43232)\n",
    "n.course_name = 234"
   ]
  },
  {
   "cell_type": "code",
   "execution_count": 26,
   "metadata": {},
   "outputs": [
    {
     "data": {
      "text/plain": [
       "234"
      ]
     },
     "execution_count": 26,
     "metadata": {},
     "output_type": "execute_result"
    }
   ],
   "source": [
    "n.course_name"
   ]
  },
  {
   "cell_type": "code",
   "execution_count": 27,
   "metadata": {},
   "outputs": [],
   "source": [
    "del n.course_price_access"
   ]
  },
  {
   "cell_type": "code",
   "execution_count": 28,
   "metadata": {},
   "outputs": [
    {
     "ename": "AttributeError",
     "evalue": "'ineuron' object has no attribute '__course_price'",
     "output_type": "error",
     "traceback": [
      "\u001b[1;31m---------------------------------------------------------------------------\u001b[0m",
      "\u001b[1;31mAttributeError\u001b[0m                            Traceback (most recent call last)",
      "Cell \u001b[1;32mIn[28], line 1\u001b[0m\n\u001b[1;32m----> 1\u001b[0m \u001b[43mn\u001b[49m\u001b[38;5;241;43m.\u001b[39;49m\u001b[43m__course_price\u001b[49m\n",
      "\u001b[1;31mAttributeError\u001b[0m: 'ineuron' object has no attribute '__course_price'"
     ]
    }
   ],
   "source": [
    "n.__course_price"
   ]
  },
  {
   "cell_type": "code",
   "execution_count": 29,
   "metadata": {},
   "outputs": [
    {
     "name": "stdout",
     "output_type": "stream",
     "text": [
      "The End\n"
     ]
    }
   ],
   "source": [
    "print(\"The End\")"
   ]
  }
 ],
 "metadata": {
  "kernelspec": {
   "display_name": "Python 3",
   "language": "python",
   "name": "python3"
  },
  "language_info": {
   "codemirror_mode": {
    "name": "ipython",
    "version": 3
   },
   "file_extension": ".py",
   "mimetype": "text/x-python",
   "name": "python",
   "nbconvert_exporter": "python",
   "pygments_lexer": "ipython3",
   "version": "3.10.0"
  }
 },
 "nbformat": 4,
 "nbformat_minor": 2
}
