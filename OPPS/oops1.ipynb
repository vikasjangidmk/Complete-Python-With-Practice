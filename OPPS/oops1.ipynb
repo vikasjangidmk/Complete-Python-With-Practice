{
 "cells": [
  {
   "cell_type": "code",
   "execution_count": 1,
   "metadata": {},
   "outputs": [
    {
     "name": "stdout",
     "output_type": "stream",
     "text": [
      "Radhe Radhe\n"
     ]
    }
   ],
   "source": [
    "print(\"Radhe Radhe\")"
   ]
  },
  {
   "cell_type": "markdown",
   "metadata": {},
   "source": [
    "### what is oops?\n",
    "\n",
    "OOPs (Object-Oriented Programming System) is a programming paradigm that uses objects and classes to design and structure software applications.\n",
    "\n",
    "- Modularity and Reusability\n",
    "- Encapsulation and Infomation Hinding\n",
    "- Inheritance and Code Reuse\n",
    "- Polymorphism and Flexibility\n",
    "- Abstraction and Simplification\n",
    "'''"
   ]
  },
  {
   "cell_type": "code",
   "execution_count": 2,
   "metadata": {},
   "outputs": [
    {
     "name": "stdout",
     "output_type": "stream",
     "text": [
      "<class 'list'>\n"
     ]
    }
   ],
   "source": [
    "l = [1,2,3,4,5]\n",
    "type(l)\n",
    "print(type(l))"
   ]
  },
  {
   "cell_type": "code",
   "execution_count": 3,
   "metadata": {},
   "outputs": [
    {
     "name": "stdout",
     "output_type": "stream",
     "text": [
      "<class 'str'>\n"
     ]
    }
   ],
   "source": [
    "s = \"vikas\"\n",
    "type(s)\n",
    "print(type(s))"
   ]
  },
  {
   "cell_type": "code",
   "execution_count": 4,
   "metadata": {},
   "outputs": [
    {
     "data": {
      "text/plain": [
       "'Vikas'"
      ]
     },
     "execution_count": 4,
     "metadata": {},
     "output_type": "execute_result"
    }
   ],
   "source": [
    "# Here capitalize is a object\n",
    "s1 = s.capitalize()\n",
    "s1"
   ]
  },
  {
   "cell_type": "code",
   "execution_count": 5,
   "metadata": {},
   "outputs": [
    {
     "name": "stdout",
     "output_type": "stream",
     "text": [
      "[1, 2, 3, 4, 5, [6]]\n"
     ]
    }
   ],
   "source": [
    "# Here append is a object\n",
    "l1 = l.append([6])\n",
    "print(l)"
   ]
  },
  {
   "cell_type": "markdown",
   "metadata": {},
   "source": [
    "# **Class and Object**"
   ]
  },
  {
   "cell_type": "markdown",
   "metadata": {},
   "source": [
    "### Class :-\n",
    "Class in object-oriented programming is a blueprint or template for creating objects. It defines (attributes) and behaviors (method) that all object of that class will have."
   ]
  },
  {
   "cell_type": "markdown",
   "metadata": {},
   "source": [
    "### Object :-\n",
    "An object is an instance of a class. It represents a specific "
   ]
  },
  {
   "cell_type": "code",
   "execution_count": 6,
   "metadata": {},
   "outputs": [],
   "source": [
    "class test:\n",
    "    pass"
   ]
  },
  {
   "cell_type": "code",
   "execution_count": 7,
   "metadata": {},
   "outputs": [],
   "source": [
    "t = test()"
   ]
  },
  {
   "cell_type": "code",
   "execution_count": 8,
   "metadata": {},
   "outputs": [
    {
     "name": "stdout",
     "output_type": "stream",
     "text": [
      "<class 'type'>\n"
     ]
    }
   ],
   "source": [
    "print(type(test))"
   ]
  },
  {
   "cell_type": "code",
   "execution_count": 9,
   "metadata": {},
   "outputs": [
    {
     "name": "stdout",
     "output_type": "stream",
     "text": [
      "<class '__main__.test'>\n"
     ]
    }
   ],
   "source": [
    "print(type(t))"
   ]
  },
  {
   "cell_type": "code",
   "execution_count": 10,
   "metadata": {},
   "outputs": [
    {
     "name": "stdout",
     "output_type": "stream",
     "text": [
      "<class 'list'>\n"
     ]
    }
   ],
   "source": [
    "l = list()\n",
    "print(type(l))"
   ]
  },
  {
   "cell_type": "code",
   "execution_count": 11,
   "metadata": {},
   "outputs": [],
   "source": [
    "def vikas():\n",
    "    pass"
   ]
  },
  {
   "cell_type": "code",
   "execution_count": 12,
   "metadata": {},
   "outputs": [
    {
     "name": "stdout",
     "output_type": "stream",
     "text": [
      "<class 'function'>\n"
     ]
    }
   ],
   "source": [
    "print(type(vikas))"
   ]
  },
  {
   "cell_type": "code",
   "execution_count": 13,
   "metadata": {},
   "outputs": [],
   "source": [
    "class vikas:\n",
    "    def welcome_msg():\n",
    "        print(\"Welcome to Python\")"
   ]
  },
  {
   "cell_type": "code",
   "execution_count": 14,
   "metadata": {},
   "outputs": [
    {
     "ename": "TypeError",
     "evalue": "vikas.welcome_msg() takes 0 positional arguments but 1 was given",
     "output_type": "error",
     "traceback": [
      "\u001b[1;31m---------------------------------------------------------------------------\u001b[0m",
      "\u001b[1;31mTypeError\u001b[0m                                 Traceback (most recent call last)",
      "Cell \u001b[1;32mIn[14], line 2\u001b[0m\n\u001b[0;32m      1\u001b[0m obj \u001b[38;5;241m=\u001b[39m vikas()\n\u001b[1;32m----> 2\u001b[0m \u001b[43mobj\u001b[49m\u001b[38;5;241;43m.\u001b[39;49m\u001b[43mwelcome_msg\u001b[49m\u001b[43m(\u001b[49m\u001b[43m)\u001b[49m\n",
      "\u001b[1;31mTypeError\u001b[0m: vikas.welcome_msg() takes 0 positional arguments but 1 was given"
     ]
    }
   ],
   "source": [
    "obj = vikas()\n",
    "obj.welcome_msg()"
   ]
  },
  {
   "cell_type": "code",
   "execution_count": 15,
   "metadata": {},
   "outputs": [],
   "source": [
    "# Here self is constrator\n",
    "class vikas:\n",
    "    def welcome_msg(self):\n",
    "        print(\"Welcome to Python\")"
   ]
  },
  {
   "cell_type": "code",
   "execution_count": 16,
   "metadata": {},
   "outputs": [
    {
     "name": "stdout",
     "output_type": "stream",
     "text": [
      "Welcome to Python\n"
     ]
    }
   ],
   "source": [
    "obj = vikas()\n",
    "obj.welcome_msg()"
   ]
  },
  {
   "cell_type": "code",
   "execution_count": 17,
   "metadata": {},
   "outputs": [],
   "source": [
    "class vikas:\n",
    "    a = 6\n",
    "    b = 7\n",
    "    \n",
    "    def welcome_msg(self):\n",
    "        print(\"Welcome to Python\")"
   ]
  },
  {
   "cell_type": "code",
   "execution_count": 18,
   "metadata": {},
   "outputs": [
    {
     "name": "stdout",
     "output_type": "stream",
     "text": [
      "Welcome to Python\n"
     ]
    },
    {
     "data": {
      "text/plain": [
       "7"
      ]
     },
     "execution_count": 18,
     "metadata": {},
     "output_type": "execute_result"
    }
   ],
   "source": [
    "obj = vikas()\n",
    "obj.welcome_msg()\n",
    "obj.a\n",
    "obj.b"
   ]
  },
  {
   "cell_type": "markdown",
   "metadata": {},
   "source": [
    "### What can we pass in class ?\n",
    "- Variables(attributes) and Function(method)"
   ]
  },
  {
   "cell_type": "markdown",
   "metadata": {},
   "source": [
    "object == instance of class == variable of class"
   ]
  },
  {
   "cell_type": "markdown",
   "metadata": {},
   "source": [
    "Features of __init__ Method:\n",
    "- Automatic Execution – Runs automatically when an object is created.\n",
    "- Object Initialization – Initializes instance variables.\n",
    "- Self Parameter – Refers to the current instance of the class.\n",
    "- Overloading-like Behavior – Can use default values to mimic overloading.\n",
    "- Encapsulation Support – Can initialize private and protected attributes.\n"
   ]
  },
  {
   "cell_type": "code",
   "execution_count": 22,
   "metadata": {},
   "outputs": [],
   "source": [
    "# Here self is object\n",
    "def __init__(self):\n",
    "# As we create obj it will exceute\n",
    "# Init it help to pass the value inside the class\n",
    "# we donot have to call the construter\n",
    "    pass\n"
   ]
  },
  {
   "cell_type": "code",
   "execution_count": 20,
   "metadata": {},
   "outputs": [],
   "source": [
    "class person:\n",
    "    \n",
    "    def __init__(self,name,age):\n",
    "        self.name = name\n",
    "        self.age = age\n",
    "        print(\"Name :\",self.name)\n",
    "        print(\"Age: \",self.age)\n",
    "        self.welcome_msg()\n",
    "        \n",
    "        \n",
    "    def welcome_msg(self):\n",
    "            print(\"Welcome to Python\")"
   ]
  },
  {
   "cell_type": "code",
   "execution_count": 21,
   "metadata": {},
   "outputs": [
    {
     "name": "stdout",
     "output_type": "stream",
     "text": [
      "Name : vikas\n",
      "Age:  24\n",
      "Welcome to Python\n"
     ]
    }
   ],
   "source": [
    "per = person(\"vikas\", 24)"
   ]
  },
  {
   "cell_type": "code",
   "execution_count": 26,
   "metadata": {},
   "outputs": [],
   "source": [
    "# Parameterised Constrator(name and age are parameter here)\n",
    "\n",
    "class person:\n",
    "    \n",
    "    def __init__(self,name,age):\n",
    "        self.name = name\n",
    "        self.age = age\n",
    "        print(\"Name :\",self.name)\n",
    "        print(\"Age: \",self.age)\n",
    "        self.welcome_msg()\n",
    "        \n",
    "        \n",
    "    def welcome_msg(self):\n",
    "            print(\"Welcome to Python\")"
   ]
  },
  {
   "cell_type": "code",
   "execution_count": 27,
   "metadata": {},
   "outputs": [
    {
     "name": "stdout",
     "output_type": "stream",
     "text": [
      "Name : vikas\n",
      "Age:  24\n",
      "Welcome to Python\n"
     ]
    }
   ],
   "source": [
    "per1 = person(\"vikas\", 24)"
   ]
  },
  {
   "cell_type": "code",
   "execution_count": 24,
   "metadata": {},
   "outputs": [],
   "source": [
    "# Non Parameterised Constrator\n",
    "\n",
    "class person:\n",
    "    \n",
    "    def __init__(self):\n",
    "        self.name = \"Vikas\"\n",
    "        self.age = 24\n",
    "        print(\"Name :\",self.name)\n",
    "        print(\"Age: \",self.age)\n",
    "        self.welcome_msg()\n",
    "        \n",
    "        \n",
    "    def welcome_msg(self):\n",
    "            print(\"Welcome to Python\")"
   ]
  },
  {
   "cell_type": "code",
   "execution_count": 25,
   "metadata": {},
   "outputs": [
    {
     "name": "stdout",
     "output_type": "stream",
     "text": [
      "Name : Vikas\n",
      "Age:  24\n",
      "Welcome to Python\n"
     ]
    }
   ],
   "source": [
    "per2 = person()"
   ]
  },
  {
   "cell_type": "code",
   "execution_count": 28,
   "metadata": {},
   "outputs": [
    {
     "name": "stdout",
     "output_type": "stream",
     "text": [
      "Welcome to Python\n"
     ]
    }
   ],
   "source": [
    "per2.welcome_msg()"
   ]
  },
  {
   "cell_type": "code",
   "execution_count": 29,
   "metadata": {},
   "outputs": [],
   "source": [
    "# When we use self\n",
    "# - related to variable\n",
    "# - Method and function\n",
    "\n",
    "\n",
    "# Self is current object which is present inside the class"
   ]
  },
  {
   "cell_type": "code",
   "execution_count": 30,
   "metadata": {},
   "outputs": [],
   "source": [
    "# Non Parameterised Constrator\n",
    "\n",
    "class person:\n",
    "    \n",
    "    def __init__(self):\n",
    "        print(id(self))\n",
    "        self.name = \"Vikas\"\n",
    "        self.age = 24\n",
    "        print(\"Name :\",self.name)\n",
    "        print(\"Age: \",self.age)\n",
    "        self.welcome_msg()\n",
    "        \n",
    "        \n",
    "    def welcome_msg(self):\n",
    "            print(\"Welcome to Python\")"
   ]
  },
  {
   "cell_type": "code",
   "execution_count": 31,
   "metadata": {},
   "outputs": [
    {
     "name": "stdout",
     "output_type": "stream",
     "text": [
      "2119121553056\n",
      "Name : Vikas\n",
      "Age:  24\n",
      "Welcome to Python\n",
      "Welcome to Python\n"
     ]
    }
   ],
   "source": [
    "per = person()\n",
    "per.welcome_msg()"
   ]
  },
  {
   "cell_type": "code",
   "execution_count": 32,
   "metadata": {},
   "outputs": [
    {
     "data": {
      "text/plain": [
       "2119121553056"
      ]
     },
     "execution_count": 32,
     "metadata": {},
     "output_type": "execute_result"
    }
   ],
   "source": [
    "id(per)"
   ]
  },
  {
   "cell_type": "code",
   "execution_count": 33,
   "metadata": {},
   "outputs": [
    {
     "name": "stdout",
     "output_type": "stream",
     "text": [
      "2119103250192\n",
      "Name : Vikas\n",
      "Age:  24\n",
      "Welcome to Python\n",
      "2119103250192\n"
     ]
    }
   ],
   "source": [
    "per2 = person()\n",
    "print(id(per2))"
   ]
  },
  {
   "cell_type": "code",
   "execution_count": 35,
   "metadata": {},
   "outputs": [],
   "source": [
    "# We can name anything in place of self(because self is a object)"
   ]
  },
  {
   "cell_type": "markdown",
   "metadata": {},
   "source": [
    "## **Magic Method**"
   ]
  },
  {
   "cell_type": "code",
   "execution_count": 37,
   "metadata": {},
   "outputs": [],
   "source": [
    "# __init__ is a constrator\n",
    "# __del__ is a destrator\n",
    "# __add__ \n",
    "# __str__\n",
    "# __mul__\n",
    "\n",
    "\n",
    "# They are use for doing specific task on object of class"
   ]
  },
  {
   "cell_type": "code",
   "execution_count": 38,
   "metadata": {},
   "outputs": [
    {
     "data": {
      "text/plain": [
       "[3, 4, 32, 343]"
      ]
     },
     "execution_count": 38,
     "metadata": {},
     "output_type": "execute_result"
    }
   ],
   "source": [
    "l = [3,4]\n",
    "l1 = [32,343]\n",
    "l + l1"
   ]
  },
  {
   "cell_type": "code",
   "execution_count": 40,
   "metadata": {},
   "outputs": [],
   "source": [
    "class Myclass:\n",
    "    def name(self,value):\n",
    "        self.value = value\n",
    "        print(\"Value is :\",self.value)"
   ]
  },
  {
   "cell_type": "code",
   "execution_count": 41,
   "metadata": {},
   "outputs": [
    {
     "ename": "TypeError",
     "evalue": "Myclass() takes no arguments",
     "output_type": "error",
     "traceback": [
      "\u001b[1;31m---------------------------------------------------------------------------\u001b[0m",
      "\u001b[1;31mTypeError\u001b[0m                                 Traceback (most recent call last)",
      "Cell \u001b[1;32mIn[41], line 1\u001b[0m\n\u001b[1;32m----> 1\u001b[0m m \u001b[38;5;241m=\u001b[39m \u001b[43mMyclass\u001b[49m\u001b[43m(\u001b[49m\u001b[38;5;124;43m\"\u001b[39;49m\u001b[38;5;124;43mVikas\u001b[39;49m\u001b[38;5;124;43m\"\u001b[39;49m\u001b[43m)\u001b[49m\n",
      "\u001b[1;31mTypeError\u001b[0m: Myclass() takes no arguments"
     ]
    }
   ],
   "source": [
    "m = Myclass(\"Vikas\")"
   ]
  },
  {
   "cell_type": "code",
   "execution_count": 42,
   "metadata": {},
   "outputs": [],
   "source": [
    "class Myclass:\n",
    "    def __init__(self,value):\n",
    "        self.value = value\n",
    "        print(\"Value is :\",self.value)"
   ]
  },
  {
   "cell_type": "code",
   "execution_count": 43,
   "metadata": {},
   "outputs": [
    {
     "name": "stdout",
     "output_type": "stream",
     "text": [
      "Value is : Vikas\n"
     ]
    }
   ],
   "source": [
    "m = Myclass(\"Vikas\")"
   ]
  },
  {
   "cell_type": "code",
   "execution_count": 44,
   "metadata": {},
   "outputs": [],
   "source": [
    "class Myclass:\n",
    "    \n",
    "    def __init__(self,value):\n",
    "        self.value = value\n",
    "        print(\"Value is :\",self.value)\n",
    "        \n",
    "    def add(self,other):\n",
    "        return self.value + other\n",
    "        "
   ]
  },
  {
   "cell_type": "code",
   "execution_count": 45,
   "metadata": {},
   "outputs": [
    {
     "name": "stdout",
     "output_type": "stream",
     "text": [
      "Value is : 32\n",
      "Value is : 34\n"
     ]
    },
    {
     "ename": "TypeError",
     "evalue": "unsupported operand type(s) for +: 'Myclass' and 'Myclass'",
     "output_type": "error",
     "traceback": [
      "\u001b[1;31m---------------------------------------------------------------------------\u001b[0m",
      "\u001b[1;31mTypeError\u001b[0m                                 Traceback (most recent call last)",
      "Cell \u001b[1;32mIn[45], line 4\u001b[0m\n\u001b[0;32m      1\u001b[0m m \u001b[38;5;241m=\u001b[39m Myclass(\u001b[38;5;241m32\u001b[39m)\n\u001b[0;32m      2\u001b[0m m1 \u001b[38;5;241m=\u001b[39m Myclass(\u001b[38;5;241m34\u001b[39m)\n\u001b[1;32m----> 4\u001b[0m \u001b[43mm\u001b[49m\u001b[43m \u001b[49m\u001b[38;5;241;43m+\u001b[39;49m\u001b[43m \u001b[49m\u001b[43mm1\u001b[49m\n",
      "\u001b[1;31mTypeError\u001b[0m: unsupported operand type(s) for +: 'Myclass' and 'Myclass'"
     ]
    }
   ],
   "source": [
    "m = Myclass(32)\n",
    "m1 = Myclass(34)\n",
    "\n",
    "m + m1"
   ]
  },
  {
   "cell_type": "code",
   "execution_count": 48,
   "metadata": {},
   "outputs": [],
   "source": [
    "class Myclass:\n",
    "    \n",
    "    def __init__(self,value):\n",
    "        self.value = value\n",
    "        print(\"Value is :\",self.value)\n",
    "        \n",
    "    def __add__(self,other):\n",
    "        return self.value + other.value\n",
    "        "
   ]
  },
  {
   "cell_type": "code",
   "execution_count": 50,
   "metadata": {},
   "outputs": [
    {
     "name": "stdout",
     "output_type": "stream",
     "text": [
      "Value is : 32\n",
      "Value is : 34\n",
      "66\n"
     ]
    }
   ],
   "source": [
    "m = Myclass(32)\n",
    "m1 = Myclass(34)\n",
    "\n",
    "print(m1+m)"
   ]
  },
  {
   "cell_type": "code",
   "execution_count": 56,
   "metadata": {},
   "outputs": [],
   "source": [
    "class Myclass:\n",
    "    \n",
    "    def __init__(self,value):\n",
    "        self.value = value\n",
    "        print(\"Value is :\",self.value)\n",
    "        \n",
    "    def __add__(self,other):\n",
    "        return self.value + other.value\n",
    "        \n",
    "    def __sub__(self,other):\n",
    "        return self.value - other.value\n",
    "    \n",
    "    def __mul__(self,other):\n",
    "        return self.value * other.value"
   ]
  },
  {
   "cell_type": "code",
   "execution_count": 55,
   "metadata": {},
   "outputs": [
    {
     "name": "stdout",
     "output_type": "stream",
     "text": [
      "Value is : 32\n",
      "Value is : 34\n",
      "2\n"
     ]
    }
   ],
   "source": [
    "m = Myclass(32)\n",
    "m1 = Myclass(34)\n",
    "\n",
    "print(m1-m)"
   ]
  },
  {
   "cell_type": "code",
   "execution_count": 3,
   "metadata": {},
   "outputs": [
    {
     "name": "stdout",
     "output_type": "stream",
     "text": [
      "Value is : 32\n",
      "Value is : 34\n",
      "1088\n"
     ]
    }
   ],
   "source": [
    "m = Myclass(32)\n",
    "m1 = Myclass(34)\n",
    "\n",
    "print(m1*m)"
   ]
  },
  {
   "cell_type": "code",
   "execution_count": 1,
   "metadata": {},
   "outputs": [],
   "source": [
    "class Myclass:\n",
    "    \n",
    "    def __init__(self,value):\n",
    "        self.value = value\n",
    "        print(\"Value is :\",self.value)\n",
    "        \n",
    "    def __add__(self,other):\n",
    "        return self.value + other.value\n",
    "        \n",
    "    def __sub__(self,other):\n",
    "        return self.value - other.value\n",
    "    \n",
    "#    def __mul__(self,other):\n",
    "#        return self.value * other.value\n",
    "\n",
    "    def __mul__(self,s):\n",
    "        return self.value * s"
   ]
  },
  {
   "cell_type": "code",
   "execution_count": 2,
   "metadata": {},
   "outputs": [
    {
     "name": "stdout",
     "output_type": "stream",
     "text": [
      "Value is : 32\n",
      "Value is : 34\n"
     ]
    },
    {
     "data": {
      "text/plain": [
       "102"
      ]
     },
     "execution_count": 2,
     "metadata": {},
     "output_type": "execute_result"
    }
   ],
   "source": [
    "m = Myclass(32)\n",
    "m1 = Myclass(34)\n",
    "\n",
    "m1*3"
   ]
  },
  {
   "cell_type": "code",
   "execution_count": null,
   "metadata": {},
   "outputs": [],
   "source": []
  }
 ],
 "metadata": {
  "kernelspec": {
   "display_name": "Python 3",
   "language": "python",
   "name": "python3"
  },
  "language_info": {
   "codemirror_mode": {
    "name": "ipython",
    "version": 3
   },
   "file_extension": ".py",
   "mimetype": "text/x-python",
   "name": "python",
   "nbconvert_exporter": "python",
   "pygments_lexer": "ipython3",
   "version": "3.10.0"
  }
 },
 "nbformat": 4,
 "nbformat_minor": 2
}
