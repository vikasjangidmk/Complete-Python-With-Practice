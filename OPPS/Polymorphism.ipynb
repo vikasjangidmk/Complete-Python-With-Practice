{
 "cells": [
  {
   "cell_type": "markdown",
   "metadata": {},
   "source": [
    "Polymorphism in Python\n",
    "\n",
    "Polymorphism is one of the key principles of Object-Oriented Programming (OOP) that allows objects of different classes to be treated as objects of a common superclass. It enables a single interface to be used for different data types, enhancing code flexibility and reusability.\n",
    "\n",
    "Types of Polymorphism:\n",
    "\n",
    "1. Method Overriding (Runtime Polymorphism):\n",
    "   - When a child class provides a specific implementation of a method that is already defined in its parent class.\n",
    "   - The method in the child class overrides the parent class method with the same name and parameters.\n",
    "   - It allows dynamic method resolution at runtime.\n",
    "\n",
    "2. Method Overloading (Not Native in Python):\n",
    "   - Python does not support traditional method overloading like Java or C++.\n",
    "   - However, function overloading behavior can be achieved using default arguments or variable-length arguments (*args, **kwargs).\n",
    "\n",
    "3. Operator Overloading:\n",
    "   - Allows operators like +, -, *, etc., to have different meanings based on the operand types.\n",
    "   - This is achieved by defining special methods (__add__, __sub__, __mul__, etc.) in classes.\n",
    "\n",
    "4. Duck Typing:\n",
    "   - Python follows the concept of \"If it looks like a duck and quacks like a duck, it must be a duck.\"\n",
    "   - The actual type of an object does not matter as long as it has the required method or attribute.\n",
    "\n",
    "Advantages of Polymorphism:\n",
    "- Improves code flexibility and reusability.\n",
    "- Allows different classes to define the same method names, making it easier to work with objects.\n",
    "- Enhances maintainability and reduces code duplication.\n",
    "- Supports dynamic behavior, making the program more scalable.\n"
   ]
  },
  {
   "cell_type": "code",
   "execution_count": 1,
   "metadata": {},
   "outputs": [],
   "source": [
    "def test(a,b):\n",
    "    return a + b"
   ]
  },
  {
   "cell_type": "code",
   "execution_count": 2,
   "metadata": {},
   "outputs": [
    {
     "data": {
      "text/plain": [
       "5"
      ]
     },
     "execution_count": 2,
     "metadata": {},
     "output_type": "execute_result"
    }
   ],
   "source": [
    "test(2,3)"
   ]
  },
  {
   "cell_type": "code",
   "execution_count": 4,
   "metadata": {},
   "outputs": [
    {
     "data": {
      "text/plain": [
       "'prince Katiyar'"
      ]
     },
     "execution_count": 4,
     "metadata": {},
     "output_type": "execute_result"
    }
   ],
   "source": [
    "test(\"prince\",\" Katiyar\")  # concatanation"
   ]
  },
  {
   "cell_type": "code",
   "execution_count": 5,
   "metadata": {},
   "outputs": [],
   "source": [
    "# Method Overloding\n",
    "\n",
    "class python:\n",
    "    def syllabus(self):\n",
    "        print(\"This is my python class\")"
   ]
  },
  {
   "cell_type": "code",
   "execution_count": 7,
   "metadata": {},
   "outputs": [],
   "source": [
    "p = python()"
   ]
  },
  {
   "cell_type": "code",
   "execution_count": 6,
   "metadata": {},
   "outputs": [],
   "source": [
    "class oops:\n",
    "    def syllabus(self):\n",
    "        print(\"This is my oops class\")"
   ]
  },
  {
   "cell_type": "code",
   "execution_count": 8,
   "metadata": {},
   "outputs": [],
   "source": [
    "o = oops()"
   ]
  },
  {
   "cell_type": "code",
   "execution_count": 9,
   "metadata": {},
   "outputs": [],
   "source": [
    "def parcer(class_obj):\n",
    "    for i in class_obj:\n",
    "        i.syllabus()"
   ]
  },
  {
   "cell_type": "code",
   "execution_count": 10,
   "metadata": {},
   "outputs": [
    {
     "name": "stdout",
     "output_type": "stream",
     "text": [
      "This is my python class\n",
      "This is my oops class\n"
     ]
    }
   ],
   "source": [
    "class_obj = [p,o]\n",
    "parcer(class_obj)"
   ]
  },
  {
   "cell_type": "code",
   "execution_count": 11,
   "metadata": {},
   "outputs": [
    {
     "name": "stdout",
     "output_type": "stream",
     "text": [
      "The End\n"
     ]
    }
   ],
   "source": [
    "print(\"The End\")"
   ]
  }
 ],
 "metadata": {
  "kernelspec": {
   "display_name": "Python 3",
   "language": "python",
   "name": "python3"
  },
  "language_info": {
   "codemirror_mode": {
    "name": "ipython",
    "version": 3
   },
   "file_extension": ".py",
   "mimetype": "text/x-python",
   "name": "python",
   "nbconvert_exporter": "python",
   "pygments_lexer": "ipython3",
   "version": "3.10.0"
  }
 },
 "nbformat": 4,
 "nbformat_minor": 2
}
