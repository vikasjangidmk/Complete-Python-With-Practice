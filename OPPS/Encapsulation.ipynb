{
 "cells": [
  {
   "cell_type": "markdown",
   "metadata": {},
   "source": [
    "# *Encapsulation*"
   ]
  },
  {
   "cell_type": "code",
   "execution_count": 9,
   "metadata": {},
   "outputs": [],
   "source": [
    "class Bankaccount:\n",
    "    def __init__(self,account_number,balance):\n",
    "        self.account_number=account_number\n",
    "        self.balance=balance\n",
    "        \n",
    "    def deposit(self,amount):\n",
    "        self.balance = self.balance + amount\n",
    "        print(\"Total deposit amount is :\", {self.balance})\n",
    "    \n",
    "    def withdraw(self,amount):\n",
    "        if self.balance < amount:\n",
    "            print(\"Insufficient balance\")\n",
    "        else: \n",
    "            self.balance = self.balance - amount\n",
    "            print(f\"You can withdraw {amount} and your remaining balance is {self.balance}\")\n",
    "    \n",
    "    def check_balance(self):\n",
    "        print(\"Total balance amount is :\", {self.balance})"
   ]
  },
  {
   "cell_type": "code",
   "execution_count": 10,
   "metadata": {},
   "outputs": [
    {
     "name": "stdout",
     "output_type": "stream",
     "text": [
      "Total deposit amount is : {1500}\n"
     ]
    }
   ],
   "source": [
    "Ramesh = Bankaccount(\"123456\",1000)\n",
    "\n",
    "Ramesh.deposit(500)"
   ]
  },
  {
   "cell_type": "code",
   "execution_count": 12,
   "metadata": {},
   "outputs": [
    {
     "name": "stdout",
     "output_type": "stream",
     "text": [
      "Insufficient balance\n"
     ]
    }
   ],
   "source": [
    "Ramesh.withdraw(200000)"
   ]
  },
  {
   "cell_type": "code",
   "execution_count": 13,
   "metadata": {},
   "outputs": [
    {
     "name": "stdout",
     "output_type": "stream",
     "text": [
      "Total balance amount is : {1300}\n"
     ]
    }
   ],
   "source": [
    "Ramesh.check_balance()"
   ]
  },
  {
   "cell_type": "markdown",
   "metadata": {},
   "source": [
    "### **Encapsulation**"
   ]
  },
  {
   "cell_type": "code",
   "execution_count": 14,
   "metadata": {},
   "outputs": [
    {
     "name": "stdout",
     "output_type": "stream",
     "text": [
      "Vikas\n",
      "Male\n"
     ]
    }
   ],
   "source": [
    "class person:\n",
    "    def __init__(self,name,gender):\n",
    "        self.name = name\n",
    "        self.gender = gender\n",
    "        \n",
    "p = person(\"Vikas\", \"Male\")\n",
    "print(p.name)\n",
    "print(p.gender)"
   ]
  },
  {
   "cell_type": "code",
   "execution_count": 15,
   "metadata": {},
   "outputs": [
    {
     "data": {
      "text/plain": [
       "<__main__.person at 0x13d952d5d20>"
      ]
     },
     "execution_count": 15,
     "metadata": {},
     "output_type": "execute_result"
    }
   ],
   "source": [
    "person(\"vikas\",\"Male\")"
   ]
  },
  {
   "cell_type": "code",
   "execution_count": 19,
   "metadata": {},
   "outputs": [
    {
     "data": {
      "text/plain": [
       "'Vikas'"
      ]
     },
     "execution_count": 19,
     "metadata": {},
     "output_type": "execute_result"
    }
   ],
   "source": [
    "p = person(\"Vikas\", \"Male\")\n",
    "q = p \n",
    "q.name # p or q is only store the reference of the memory"
   ]
  },
  {
   "cell_type": "code",
   "execution_count": 20,
   "metadata": {},
   "outputs": [
    {
     "data": {
      "text/plain": [
       "'Ankit'"
      ]
     },
     "execution_count": 20,
     "metadata": {},
     "output_type": "execute_result"
    }
   ],
   "source": [
    "p.name = \"Ankit\"   # to prevent the changes in y class  \n",
    "p.name"
   ]
  },
  {
   "cell_type": "code",
   "execution_count": 21,
   "metadata": {},
   "outputs": [
    {
     "name": "stdout",
     "output_type": "stream",
     "text": [
      "Vikas\n",
      "Male\n"
     ]
    }
   ],
   "source": [
    "class person:\n",
    "    def __init__(self,name,gender):\n",
    "        self.name = name\n",
    "        self.gender = gender\n",
    "        \n",
    "def my(person):\n",
    "    print(person.name)\n",
    "    print(person.gender)\n",
    "    \n",
    "p = person(\"Vikas\",\"Male\")\n",
    "\n",
    "my(p)"
   ]
  },
  {
   "cell_type": "code",
   "execution_count": 23,
   "metadata": {},
   "outputs": [
    {
     "name": "stdout",
     "output_type": "stream",
     "text": [
      "Vikas\n",
      "Male\n"
     ]
    },
    {
     "data": {
      "text/plain": [
       "'Male'"
      ]
     },
     "execution_count": 23,
     "metadata": {},
     "output_type": "execute_result"
    }
   ],
   "source": [
    "class person:\n",
    "    def __init__(self,name,gender):\n",
    "        self.name = name\n",
    "        self.gender = gender\n",
    "        \n",
    "def my(p):\n",
    "    print(p.name)\n",
    "    print(p.gender)\n",
    "    \n",
    "    p1 = person(\"Tanweer\",\"Male\")\n",
    "    return p1\n",
    "    \n",
    "p = person(\"Vikas\",\"Male\")\n",
    "\n",
    "my1 = my(p)\n",
    "my1.name\n",
    "my1.gender"
   ]
  },
  {
   "cell_type": "code",
   "execution_count": 26,
   "metadata": {},
   "outputs": [
    {
     "name": "stdout",
     "output_type": "stream",
     "text": [
      "Vikas\n",
      "Male\n",
      "Ankit\n"
     ]
    }
   ],
   "source": [
    "class person:\n",
    "    def __init__(self,name,gender):\n",
    "        self.name = name\n",
    "        self.gender = gender\n",
    "        \n",
    "def my(person):\n",
    "    print(person.name)\n",
    "    print(person.gender)\n",
    "    p.name = \"Ankit\"\n",
    "    print(p.name)\n",
    "    \n",
    "p = person(\"Vikas\",\"Male\")\n",
    "\n",
    "my(p)\n"
   ]
  },
  {
   "cell_type": "markdown",
   "metadata": {},
   "source": [
    "### **Why We Use Encapsulation in OOP?**\n",
    "#### Ans: Encapsulation is used in Object-Oriented Programming (OOP) to:\n",
    "\n",
    "1. Data Protection – Prevents direct modification of sensitive data.\n",
    "2. Data Hiding – Restricts access to internal object details.\n",
    "3. Controlled Access – Provides getter and setter methods for safe data manipulation.\n",
    "4. Improved Code Maintainability – Makes code modular and easier to manage.\n",
    "5. Enhanced Security – Prevents accidental modifications of essential data.\n",
    "6. Encapsulation Supports Abstraction – Hides complex implementation details from users.\n",
    "7. Increases Code Reusability – Allows creating reusable classes with controlled behavior.\n",
    "8. Reduces Code Complexity – Improves readability by exposing only necessary details."
   ]
  },
  {
   "cell_type": "code",
   "execution_count": 39,
   "metadata": {},
   "outputs": [],
   "source": [
    "class Bankaccount:\n",
    "    def __init__(self,account_number,balance):\n",
    "        self.account_number=account_number\n",
    "        self.__balance=balance\n",
    "        \n",
    "    def deposit(self,amount):\n",
    "        self.__balance = self.__balance + amount\n",
    "        print(\"Total deposit amount is :\", {self.__balance})\n",
    "    \n",
    "    def withdraw(self,amount):\n",
    "        if self.__balance < amount:\n",
    "            print(\"Insufficient balance\")\n",
    "        else: \n",
    "            self.__balance = self.__balance - amount\n",
    "            print(f\"You can withdraw {amount} and your remaining balance is {self.__balance}\")\n",
    "    \n",
    "    def check_balance(self):\n",
    "        print(\"Total balance amount is :\", {self.__balance})"
   ]
  },
  {
   "cell_type": "code",
   "execution_count": 40,
   "metadata": {},
   "outputs": [
    {
     "name": "stdout",
     "output_type": "stream",
     "text": [
      "Total deposit amount is : {1500}\n",
      "Insufficient balance\n",
      "Total balance amount is : {1500}\n"
     ]
    }
   ],
   "source": [
    "Ramesh = Bankaccount(\"123456\",1000)\n",
    "Ramesh.deposit(500)\n",
    "Ramesh.withdraw(200000)\n",
    "Ramesh.check_balance()"
   ]
  },
  {
   "cell_type": "code",
   "execution_count": 41,
   "metadata": {},
   "outputs": [
    {
     "data": {
      "text/plain": [
       "1000"
      ]
     },
     "execution_count": 41,
     "metadata": {},
     "output_type": "execute_result"
    }
   ],
   "source": [
    "Ramesh = Bankaccount(\"123456\",1000)\n",
    "Ramesh._Bankaccount__balance\n"
   ]
  },
  {
   "cell_type": "code",
   "execution_count": 43,
   "metadata": {},
   "outputs": [
    {
     "name": "stdout",
     "output_type": "stream",
     "text": [
      "Total deposit amount is : {2000}\n"
     ]
    }
   ],
   "source": [
    "Ramesh.deposit(500)"
   ]
  },
  {
   "cell_type": "markdown",
   "metadata": {},
   "source": [
    "Note: In Python, we cannot make anything completely private.\n",
    "\n",
    "How to Access Encapsulated Data:\n",
    "1. Getter Method (`get_` method) – Retrieves private attributes.\n",
    "2. Setter Method (`set_` method) – Modifies private attributes with validation.\n",
    "3. Name Mangling (`_ClassName__attribute`) – Access private attributes directly (not recommended).\n"
   ]
  },
  {
   "cell_type": "markdown",
   "metadata": {},
   "source": [
    "#### **Setter and getter method**"
   ]
  },
  {
   "cell_type": "code",
   "execution_count": 49,
   "metadata": {},
   "outputs": [],
   "source": [
    "class car:\n",
    "    def __init__(self,year,make,model,speed):\n",
    "        self.__year = year\n",
    "        self.__make = make\n",
    "        self.__model = model\n",
    "        self.__speed = 0\n",
    "        "
   ]
  },
  {
   "cell_type": "code",
   "execution_count": 50,
   "metadata": {},
   "outputs": [],
   "source": [
    "\n",
    "c = car(2021,\"Toyota\",\"Corolla\",0)"
   ]
  },
  {
   "cell_type": "code",
   "execution_count": 51,
   "metadata": {},
   "outputs": [
    {
     "ename": "AttributeError",
     "evalue": "'car' object has no attribute '__year'",
     "output_type": "error",
     "traceback": [
      "\u001b[1;31m---------------------------------------------------------------------------\u001b[0m",
      "\u001b[1;31mAttributeError\u001b[0m                            Traceback (most recent call last)",
      "Cell \u001b[1;32mIn[51], line 1\u001b[0m\n\u001b[1;32m----> 1\u001b[0m \u001b[43mc\u001b[49m\u001b[38;5;241;43m.\u001b[39;49m\u001b[43m__year\u001b[49m\n",
      "\u001b[1;31mAttributeError\u001b[0m: 'car' object has no attribute '__year'"
     ]
    }
   ],
   "source": [
    "c.__year"
   ]
  },
  {
   "cell_type": "code",
   "execution_count": 52,
   "metadata": {},
   "outputs": [
    {
     "data": {
      "text/plain": [
       "2021"
      ]
     },
     "execution_count": 52,
     "metadata": {},
     "output_type": "execute_result"
    }
   ],
   "source": [
    "c._car__year"
   ]
  },
  {
   "cell_type": "code",
   "execution_count": 65,
   "metadata": {},
   "outputs": [],
   "source": [
    "class car:\n",
    "    def __init__(self,year,make,model,speed):\n",
    "        self.__year = year\n",
    "        self.__make = make\n",
    "        self.__model = model\n",
    "        self.__speed = speed\n",
    "        \n",
    "        \n",
    "    def get_speed(self):\n",
    "        return self.__speed\n",
    "        "
   ]
  },
  {
   "cell_type": "code",
   "execution_count": 66,
   "metadata": {},
   "outputs": [],
   "source": [
    "c = car(2021,\"Toyota\",\"Corolla\",140)\n"
   ]
  },
  {
   "cell_type": "code",
   "execution_count": 67,
   "metadata": {},
   "outputs": [
    {
     "data": {
      "text/plain": [
       "140"
      ]
     },
     "execution_count": 67,
     "metadata": {},
     "output_type": "execute_result"
    }
   ],
   "source": [
    "c.get_speed()"
   ]
  },
  {
   "cell_type": "code",
   "execution_count": 73,
   "metadata": {},
   "outputs": [],
   "source": [
    "class car:\n",
    "    def __init__(self,year,make,model,speed):\n",
    "        self.__year = year\n",
    "        self.__make = make\n",
    "        self.__model = model\n",
    "        self.__speed = 0\n",
    "        \n",
    "        \n",
    "    def set_speed(self,speed0):\n",
    "        self.__speed =0  if speed0 < 0 else speed0\n",
    "    \n",
    "    def get_speed(self):\n",
    "        return self.__speed\n",
    "        "
   ]
  },
  {
   "cell_type": "code",
   "execution_count": 77,
   "metadata": {},
   "outputs": [
    {
     "name": "stdout",
     "output_type": "stream",
     "text": [
      "123\n"
     ]
    }
   ],
   "source": [
    "c = car(2021,\"Toyota\",\"Corolla\",140)\n",
    "\n",
    "c.set_speed(123)\n",
    "\n",
    "print(c._car__speed)"
   ]
  },
  {
   "cell_type": "code",
   "execution_count": 78,
   "metadata": {},
   "outputs": [
    {
     "data": {
      "text/plain": [
       "123"
      ]
     },
     "execution_count": 78,
     "metadata": {},
     "output_type": "execute_result"
    }
   ],
   "source": [
    "c.get_speed()"
   ]
  },
  {
   "cell_type": "code",
   "execution_count": 87,
   "metadata": {},
   "outputs": [],
   "source": [
    "class bank_account:\n",
    "    \n",
    "    def __init__(self,balance):\n",
    "        self.__balance = balance\n",
    "        \n",
    "    def deposit(self,amount):\n",
    "        self.__balance = self.__balance + amount\n",
    "        print(\"Total deposit amount is :\", {self.__balance})\n",
    "        \n",
    "    def withdraw(self,amount):\n",
    "        if self.__balance >= amount:\n",
    "            self.__balance = self.__balance - amount\n",
    "        else:\n",
    "            print(\"pahle paise jama karo\")\n",
    "            \n",
    "            \n",
    "    def get_balance(self):\n",
    "        print(\"Total balance amount is :\", {self.__balance})"
   ]
  },
  {
   "cell_type": "code",
   "execution_count": 88,
   "metadata": {},
   "outputs": [],
   "source": [
    "b = bank_account(1000)"
   ]
  },
  {
   "cell_type": "code",
   "execution_count": 89,
   "metadata": {},
   "outputs": [
    {
     "name": "stdout",
     "output_type": "stream",
     "text": [
      "Total deposit amount is : {1500}\n"
     ]
    }
   ],
   "source": [
    "b.deposit(500)"
   ]
  },
  {
   "cell_type": "code",
   "execution_count": 90,
   "metadata": {},
   "outputs": [
    {
     "name": "stdout",
     "output_type": "stream",
     "text": [
      "Total balance amount is : {1500}\n"
     ]
    }
   ],
   "source": [
    "b.get_balance()"
   ]
  },
  {
   "cell_type": "markdown",
   "metadata": {},
   "source": [
    "#### **Static and Instance variable**"
   ]
  },
  {
   "cell_type": "markdown",
   "metadata": {},
   "source": [
    "### Static and Instance Variables in Python  \n",
    "\n",
    "#### 1. Instance Variables:  \n",
    "- Defined inside the `__init__` method or any instance method using `self`.  \n",
    "- Unique to each instance of the class.  \n",
    "- Changes made to an instance variable affect only that particular object.  \n",
    "\n",
    "Example:  \n",
    "```python\n",
    "class Person:\n",
    "    def __init__(self, name, age):\n",
    "        self.name = name  # Instance variable\n",
    "        self.age = age    # Instance variable\n",
    "\n",
    "p1 = Person(\"Alice\", 25)\n",
    "p2 = Person(\"Bob\", 30)\n",
    "\n",
    "print(p1.name)  # Output: Alice\n",
    "print(p2.age)   # Output: 30\n"
   ]
  },
  {
   "cell_type": "markdown",
   "metadata": {},
   "source": [
    "#### 2. Static Variables (Class Variables):\n",
    "- Defined outside any method, usually at the class level.\n",
    "- Shared among all instances of the class.\n",
    "- Changing a static variable affects all instances.\n",
    "\n",
    "Example:\n",
    "```python\n",
    "class Employee:\n",
    "    company = \"Google\"  # Static variable (shared by all instances)\n",
    "\n",
    "    def __init__(self, name):\n",
    "        self.name = name  # Instance variable\n",
    "\n",
    "e1 = Employee(\"John\")\n",
    "e2 = Employee(\"Emma\")\n",
    "\n",
    "print(e1.company)  # Output: Google\n",
    "print(e2.company)  # Output: Google\n",
    "\n",
    "Employee.company = \"Microsoft\"  # Changing static variable\n",
    "\n",
    "print(e1.company)  # Output: Microsoft\n",
    "print(e2.company)  # Output: Microsoft\n"
   ]
  },
  {
   "cell_type": "markdown",
   "metadata": {},
   "source": [
    "Key Differences:\n",
    "\n",
    "| Instance Variable                          | Static Variable (Class Variable)             |\n",
    "|--------------------------------------------|----------------------------------------------|\n",
    "| Defined inside __init__ or instance methods using self | Defined at the class level                  |\n",
    "| Unique to each object                      | Shared across all objects                   |\n",
    "| Accessed using self.variable_name          | Accessed using ClassName.variable_name or self.variable_name |\n",
    "| Changes affect only the specific instance  | Changes reflect across all instances        |\n"
   ]
  },
  {
   "cell_type": "markdown",
   "metadata": {},
   "source": [
    "#### Features:\n",
    "1. Instance variable store value for a period of object life time\n",
    "2. Static variable store value for a period of class life time\n",
    "\n",
    "3. Instance variable can access through object\n",
    "4. Static variable can access through class\n",
    "\n",
    "5. Instance variable is related to object\n",
    "6. Static variable is related to class"
   ]
  },
  {
   "cell_type": "code",
   "execution_count": 93,
   "metadata": {},
   "outputs": [],
   "source": [
    "class bank_account:\n",
    "    \n",
    "    bank_name = \"Mybank\"   #static variable\n",
    "    \n",
    "    def __init__(self,balance):\n",
    "        self.__balance = balance\n",
    "        \n",
    "    def deposit(self,amount):\n",
    "        self.__balance = self.__balance + amount\n",
    "        print(\"Total deposit amount is :\", {self.__balance})\n",
    "        \n",
    "    def withdraw(self,amount):\n",
    "        if self.__balance >= amount:\n",
    "            self.__balance = self.__balance - amount\n",
    "        else:\n",
    "            print(\"pahle paise jama karo\")\n",
    "            \n",
    "            \n",
    "    def get_balance(self):\n",
    "        print(\"Total balance amount is :\", {self.__balance})"
   ]
  },
  {
   "cell_type": "code",
   "execution_count": 94,
   "metadata": {},
   "outputs": [
    {
     "data": {
      "text/plain": [
       "'Mybank'"
      ]
     },
     "execution_count": 94,
     "metadata": {},
     "output_type": "execute_result"
    }
   ],
   "source": [
    "bank_account.bank_name"
   ]
  },
  {
   "cell_type": "code",
   "execution_count": 95,
   "metadata": {},
   "outputs": [
    {
     "name": "stdout",
     "output_type": "stream",
     "text": [
      "Total balance amount is : {1000}\n"
     ]
    }
   ],
   "source": [
    "b = bank_account(1000)\n",
    "b.get_balance()"
   ]
  },
  {
   "cell_type": "markdown",
   "metadata": {},
   "source": [
    "#### **Static method and Instance method**\n",
    "\n",
    "1. Static method: \n",
    "\n",
    "\n",
    "2. Instance method: "
   ]
  },
  {
   "cell_type": "code",
   "execution_count": null,
   "metadata": {},
   "outputs": [],
   "source": []
  }
 ],
 "metadata": {
  "kernelspec": {
   "display_name": "Python 3",
   "language": "python",
   "name": "python3"
  },
  "language_info": {
   "codemirror_mode": {
    "name": "ipython",
    "version": 3
   },
   "file_extension": ".py",
   "mimetype": "text/x-python",
   "name": "python",
   "nbconvert_exporter": "python",
   "pygments_lexer": "ipython3",
   "version": "3.10.0"
  }
 },
 "nbformat": 4,
 "nbformat_minor": 2
}
