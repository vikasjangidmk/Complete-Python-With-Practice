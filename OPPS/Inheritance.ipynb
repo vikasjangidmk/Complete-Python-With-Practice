{
 "cells": [
  {
   "cell_type": "markdown",
   "metadata": {},
   "source": [
    "#### **Inheritance:**\n",
    "Inheritance is a fundamental concept in OOP that allows one class to acquire the attributes and methods of another class. It facilitates code reusability and establishes a relationship between parent and child classes\n",
    "\n",
    "- Key Concepts in Inheritance:\n",
    "1. Base Class (Parent Class)\n",
    "The class that is inherited from. It contains the basic functionality or attributes that will be shared with derived classes.\n",
    "\n",
    "2. Derived Class (Child Class)\n",
    "The class that inherits from the base class. It can access or override the attributes and methods of the base class.\n",
    "\n",
    "3. Method Overriding\n",
    "A child class can provide its own implementation of a method that is already defined in the parent class. This is called method overriding."
   ]
  },
  {
   "cell_type": "code",
   "execution_count": 4,
   "metadata": {},
   "outputs": [],
   "source": [
    "class test:\n",
    "    \n",
    "    def __init__(self,name):\n",
    "        self.name= \"Vikas\"   # data attribute\n",
    "    \n",
    "    def test_1(self):\n",
    "        return \"This is my first Class\""
   ]
  },
  {
   "cell_type": "code",
   "execution_count": 5,
   "metadata": {},
   "outputs": [],
   "source": [
    "class child_test(test):\n",
    "    pass"
   ]
  },
  {
   "cell_type": "code",
   "execution_count": 7,
   "metadata": {},
   "outputs": [
    {
     "data": {
      "text/plain": [
       "'This is my first Class'"
      ]
     },
     "execution_count": 7,
     "metadata": {},
     "output_type": "execute_result"
    }
   ],
   "source": [
    "child = child_test(\"Vikas\")\n",
    "child.test_1()"
   ]
  },
  {
   "cell_type": "code",
   "execution_count": 8,
   "metadata": {},
   "outputs": [
    {
     "data": {
      "text/plain": [
       "'Vikas'"
      ]
     },
     "execution_count": 8,
     "metadata": {},
     "output_type": "execute_result"
    }
   ],
   "source": [
    "child.name"
   ]
  },
  {
   "cell_type": "markdown",
   "metadata": {},
   "source": [
    "## **Benefits of Inheritance:**\n",
    "1. Code Reusability:\n",
    "Inheritance allows a class to inherit attributes and methods from another class. This helps reduce redundancy by reusing the code of the parent class without having to rewrite it in the child class.\n",
    "\n",
    "2. Extensibility:\n",
    "New functionality can be added to an existing class without changing the original class code. This is achieved by subclassing and overriding or extending methods in the child class.\n",
    "\n",
    "3. Improved Maintenance:\n",
    "Since the base class contains common functionality, changes made to the parent class can automatically propagate to all subclasses, making the code easier to maintain.\n",
    "\n",
    "4. Easy to Understand:\n",
    "Inheritance creates a natural relationship between classes, which makes the code more understandable. For example, a Dog class can be derived from an Animal class, which clearly shows that a dog is an animal.\n",
    "\n",
    "5. Polymorphism Support:\n",
    "Inheritance helps in implementing polymorphism, where a single interface can be used for different data types. Method overriding allows the child class to define its own specific behavior for methods inherited from the parent class.\n",
    "\n",
    "6. Data Encapsulation:\n",
    "Inheritance allows classes to encapsulate data in a parent class and allow subclasses to access this data as needed, leading to better management of data and functionalities."
   ]
  },
  {
   "cell_type": "code",
   "execution_count": 9,
   "metadata": {},
   "outputs": [],
   "source": [
    "class test:\n",
    "    \n",
    "    def __init__(self,name):\n",
    "        self.name= \"Vikas\"   # data attribute\n",
    "    \n",
    "    def test_1(self):\n",
    "        return \"This is my first Class\"\n",
    "    \n",
    "    @staticmethod\n",
    "    def static_method():\n",
    "        print(\"This is a static method\")"
   ]
  },
  {
   "cell_type": "code",
   "execution_count": 10,
   "metadata": {},
   "outputs": [
    {
     "data": {
      "text/plain": [
       "'Vikas'"
      ]
     },
     "execution_count": 10,
     "metadata": {},
     "output_type": "execute_result"
    }
   ],
   "source": [
    "child = child_test(\"Vikas\")\n",
    "child.test_1()\n",
    "child.name"
   ]
  },
  {
   "cell_type": "markdown",
   "metadata": {},
   "source": [
    "## **Constructor**"
   ]
  },
  {
   "cell_type": "code",
   "execution_count": 14,
   "metadata": {},
   "outputs": [],
   "source": [
    "class phone:\n",
    "    def __init__(self,price,brand):\n",
    "        print(\"We are inside the constrator\")\n",
    "        self.price = price\n",
    "        self.brand = brand\n",
    "        \n",
    "    def buy(self):\n",
    "        print(\"You bought a phone\")\n",
    "        \n",
    "class mobilephone(phone):\n",
    "    pass"
   ]
  },
  {
   "cell_type": "code",
   "execution_count": 15,
   "metadata": {},
   "outputs": [
    {
     "name": "stdout",
     "output_type": "stream",
     "text": [
      "We are inside the constrator\n"
     ]
    }
   ],
   "source": [
    "s = mobilephone(2000,\"Samsung\")"
   ]
  },
  {
   "cell_type": "markdown",
   "metadata": {},
   "source": [
    "## **What We Cannot Inherit in Python?**\n",
    "\n",
    "1. Private Methods and Attributes (completely):\n",
    "While Python allows access to private methods or attributes via name mangling (_ClassName__private_attr), we cannot truly inherit private members in the same way as public or protected ones. They are considered \"private\" for the class and its subclasses, but this is a weak enforcement.\n",
    "\n",
    "2. Final Methods or Attributes:\n",
    "If a method or attribute is marked as final (using a custom decorator or convention), we cannot override or inherit it directly. Python doesn’t have a built-in mechanism like other languages for declaring methods as final, but using conventions like an underscore _ or explicitly not overriding can simulate this.\n",
    "\n",
    "3. Abstract Methods in Abstract Base Classes (without overriding):\n",
    "Abstract methods in abstract base classes (ABC) must be overridden in the child class before an object can be instantiated. They cannot be inherited without implementation in subclasses.\n",
    "\n",
    "4. Static and Class Methods:\n",
    "Static and class methods can be inherited, but they are bound to the class itself, not the instance. This can cause confusion as they do not have access to instance attributes or methods unless explicitly passed. Although inheritance works, using instance-specific functionality within static or class methods doesn't behave as expected.\n",
    "\n",
    "5. Private Inherited Class Variables:\n",
    "Private class variables (those defined with double underscores __) are name-mangled and cannot be inherited directly by subclasses. They must be accessed using the name-mangled version."
   ]
  },
  {
   "cell_type": "markdown",
   "metadata": {},
   "source": [
    "#### Private Variable"
   ]
  },
  {
   "cell_type": "code",
   "execution_count": 22,
   "metadata": {},
   "outputs": [],
   "source": [
    "class device:\n",
    "    def __init__(self,cost,manufacturer,camera):\n",
    "        print(\"We are inside the constrator\")\n",
    "        self.cost = cost\n",
    "        self.manufacturer = manufacturer\n",
    "        self.camera = camera\n",
    "        \n",
    "        \n",
    "class mobile(device):\n",
    "    def check(self):\n",
    "        print(self.cost)\n",
    "        \n",
    "        "
   ]
  },
  {
   "cell_type": "code",
   "execution_count": 23,
   "metadata": {},
   "outputs": [
    {
     "name": "stdout",
     "output_type": "stream",
     "text": [
      "We are inside the constrator\n",
      "2000\n"
     ]
    }
   ],
   "source": [
    "m = mobile(2000,\"Samsung\",\"DSLR\")\n",
    "m.check()"
   ]
  },
  {
   "cell_type": "code",
   "execution_count": 24,
   "metadata": {},
   "outputs": [
    {
     "data": {
      "text/plain": [
       "2000"
      ]
     },
     "execution_count": 24,
     "metadata": {},
     "output_type": "execute_result"
    }
   ],
   "source": [
    "m.cost"
   ]
  },
  {
   "cell_type": "code",
   "execution_count": 25,
   "metadata": {},
   "outputs": [
    {
     "data": {
      "text/plain": [
       "'Samsung'"
      ]
     },
     "execution_count": 25,
     "metadata": {},
     "output_type": "execute_result"
    }
   ],
   "source": [
    "m.manufacturer"
   ]
  },
  {
   "cell_type": "code",
   "execution_count": 26,
   "metadata": {},
   "outputs": [
    {
     "data": {
      "text/plain": [
       "'DSLR'"
      ]
     },
     "execution_count": 26,
     "metadata": {},
     "output_type": "execute_result"
    }
   ],
   "source": [
    "m.camera"
   ]
  },
  {
   "cell_type": "code",
   "execution_count": 27,
   "metadata": {},
   "outputs": [],
   "source": [
    "class device:\n",
    "    def __init__(self,cost,manufacturer,camera):\n",
    "        print(\"We are inside the constrator\")\n",
    "        self.__cost = cost\n",
    "        self.manufacturer = manufacturer\n",
    "        self.camera = camera\n",
    "        \n",
    "        \n",
    "class mobile(device):\n",
    "    def check(self):\n",
    "        print(self.__cost)\n",
    "        \n",
    "        "
   ]
  },
  {
   "cell_type": "code",
   "execution_count": 28,
   "metadata": {},
   "outputs": [
    {
     "name": "stdout",
     "output_type": "stream",
     "text": [
      "We are inside the constrator\n"
     ]
    }
   ],
   "source": [
    "m = mobile(2000,\"Samsung\",\"DSLR\")"
   ]
  },
  {
   "cell_type": "code",
   "execution_count": 29,
   "metadata": {},
   "outputs": [
    {
     "data": {
      "text/plain": [
       "'DSLR'"
      ]
     },
     "execution_count": 29,
     "metadata": {},
     "output_type": "execute_result"
    }
   ],
   "source": [
    "m.camera"
   ]
  },
  {
   "cell_type": "code",
   "execution_count": 31,
   "metadata": {},
   "outputs": [
    {
     "ename": "AttributeError",
     "evalue": "'mobile' object has no attribute '_mobile__cost'",
     "output_type": "error",
     "traceback": [
      "\u001b[1;31m---------------------------------------------------------------------------\u001b[0m",
      "\u001b[1;31mAttributeError\u001b[0m                            Traceback (most recent call last)",
      "Cell \u001b[1;32mIn[31], line 2\u001b[0m\n\u001b[0;32m      1\u001b[0m \u001b[38;5;66;03m# Because cost is private attribute\u001b[39;00m\n\u001b[1;32m----> 2\u001b[0m \u001b[43mm\u001b[49m\u001b[38;5;241;43m.\u001b[39;49m\u001b[43mcheck\u001b[49m\u001b[43m(\u001b[49m\u001b[43m)\u001b[49m\n",
      "Cell \u001b[1;32mIn[27], line 11\u001b[0m, in \u001b[0;36mmobile.check\u001b[1;34m(self)\u001b[0m\n\u001b[0;32m     10\u001b[0m \u001b[38;5;28;01mdef\u001b[39;00m\u001b[38;5;250m \u001b[39m\u001b[38;5;21mcheck\u001b[39m(\u001b[38;5;28mself\u001b[39m):\n\u001b[1;32m---> 11\u001b[0m     \u001b[38;5;28mprint\u001b[39m(\u001b[38;5;28;43mself\u001b[39;49m\u001b[38;5;241;43m.\u001b[39;49m\u001b[43m__cost\u001b[49m)\n",
      "\u001b[1;31mAttributeError\u001b[0m: 'mobile' object has no attribute '_mobile__cost'"
     ]
    }
   ],
   "source": [
    "# Because cost is private attribute\n",
    "m.check()"
   ]
  },
  {
   "cell_type": "code",
   "execution_count": 34,
   "metadata": {},
   "outputs": [],
   "source": [
    "class device:\n",
    "    def __init__(self,cost,manufacturer,camera):\n",
    "        print(\"We are inside the constrator\")\n",
    "        self.__cost = cost\n",
    "        self.manufacturer = manufacturer\n",
    "        self.camera = camera\n",
    "        \n",
    "# Using getter method to access the private attribute\n",
    "    def show(self):\n",
    "        print(self.__cost)\n",
    "        \n",
    "class mobile(device):\n",
    "    def check(self):\n",
    "        print(self.__cost)\n",
    "        \n",
    "        "
   ]
  },
  {
   "cell_type": "code",
   "execution_count": 36,
   "metadata": {},
   "outputs": [
    {
     "name": "stdout",
     "output_type": "stream",
     "text": [
      "We are inside the constrator\n"
     ]
    }
   ],
   "source": [
    "m = mobile(2000,\"Samsung\",\"DSLR\")"
   ]
  },
  {
   "cell_type": "code",
   "execution_count": 38,
   "metadata": {},
   "outputs": [
    {
     "name": "stdout",
     "output_type": "stream",
     "text": [
      "2000\n"
     ]
    }
   ],
   "source": [
    "m.show()"
   ]
  },
  {
   "cell_type": "markdown",
   "metadata": {},
   "source": [
    "## **Super()**"
   ]
  },
  {
   "cell_type": "code",
   "execution_count": 50,
   "metadata": {},
   "outputs": [],
   "source": [
    "class person:\n",
    "    def __init__(self,name,age):\n",
    "        self.name = name\n",
    "        self.age = age\n",
    "        \n",
    "    def display(self):\n",
    "        print(self.name,self.age)\n",
    "\n",
    "class student(person):\n",
    "    def __init__(self, name, age):\n",
    "        self.sName = name\n",
    "        self.sAge = age\n",
    "        \n",
    "    def displayInfo(self):\n",
    "        print(self.sName,self.sAge)"
   ]
  },
  {
   "cell_type": "code",
   "execution_count": 51,
   "metadata": {},
   "outputs": [],
   "source": [
    "obj = student(\"Vikas\",25)"
   ]
  },
  {
   "cell_type": "code",
   "execution_count": 46,
   "metadata": {},
   "outputs": [
    {
     "ename": "AttributeError",
     "evalue": "'student' object has no attribute 'name'",
     "output_type": "error",
     "traceback": [
      "\u001b[1;31m---------------------------------------------------------------------------\u001b[0m",
      "\u001b[1;31mAttributeError\u001b[0m                            Traceback (most recent call last)",
      "Cell \u001b[1;32mIn[46], line 1\u001b[0m\n\u001b[1;32m----> 1\u001b[0m \u001b[43mobj\u001b[49m\u001b[38;5;241;43m.\u001b[39;49m\u001b[43mdisplay\u001b[49m\u001b[43m(\u001b[49m\u001b[43m)\u001b[49m\n",
      "Cell \u001b[1;32mIn[44], line 7\u001b[0m, in \u001b[0;36mperson.display\u001b[1;34m(self)\u001b[0m\n\u001b[0;32m      6\u001b[0m \u001b[38;5;28;01mdef\u001b[39;00m\u001b[38;5;250m \u001b[39m\u001b[38;5;21mdisplay\u001b[39m(\u001b[38;5;28mself\u001b[39m):\n\u001b[1;32m----> 7\u001b[0m     \u001b[38;5;28mprint\u001b[39m(\u001b[38;5;28;43mself\u001b[39;49m\u001b[38;5;241;43m.\u001b[39;49m\u001b[43mname\u001b[49m,\u001b[38;5;28mself\u001b[39m\u001b[38;5;241m.\u001b[39mage)\n",
      "\u001b[1;31mAttributeError\u001b[0m: 'student' object has no attribute 'name'"
     ]
    }
   ],
   "source": [
    "obj.display()"
   ]
  },
  {
   "cell_type": "code",
   "execution_count": 52,
   "metadata": {},
   "outputs": [
    {
     "name": "stdout",
     "output_type": "stream",
     "text": [
      "Vikas 25\n"
     ]
    }
   ],
   "source": [
    "obj.displayInfo()"
   ]
  },
  {
   "cell_type": "code",
   "execution_count": 53,
   "metadata": {},
   "outputs": [],
   "source": [
    "class person:\n",
    "    def __init__(self,name,age):\n",
    "        self.name = name\n",
    "        self.age = age\n",
    "        \n",
    "    def display(self):\n",
    "        print(self.name,self.age)\n",
    "\n",
    "class student(person):\n",
    "    def __init__(self, name, age):\n",
    "        self.sName = name\n",
    "        self.sAge = age\n",
    "        \n",
    "        super().__init__(name,age)\n",
    "        \n",
    "    def displayInfo(self):\n",
    "        print(self.sName,self.sAge)"
   ]
  },
  {
   "cell_type": "code",
   "execution_count": 54,
   "metadata": {},
   "outputs": [],
   "source": [
    "obj = student(\"Vikas\",25)"
   ]
  },
  {
   "cell_type": "code",
   "execution_count": 55,
   "metadata": {},
   "outputs": [
    {
     "name": "stdout",
     "output_type": "stream",
     "text": [
      "Vikas 25\n"
     ]
    }
   ],
   "source": [
    "obj.display()"
   ]
  },
  {
   "cell_type": "code",
   "execution_count": 59,
   "metadata": {},
   "outputs": [
    {
     "name": "stdout",
     "output_type": "stream",
     "text": [
      "We are inside the child class\n"
     ]
    }
   ],
   "source": [
    "class phone:\n",
    "    def __init__(self,price,brand):\n",
    "        print(\"We are inside the constrator\")\n",
    "        self.price = price\n",
    "        self.brand = brand\n",
    "        \n",
    "    def buy(self):\n",
    "        print(\"You bought a phone\")\n",
    "        \n",
    "class mobilephone(phone):\n",
    "    print(\"We are inside the child class\")\n",
    "    def __init__(self, os,ram):\n",
    "        self.os = os\n",
    "        self.ram = ram\n",
    "        \n",
    "        #super().__init__(2000,\"Samsung\")  \n",
    "    def buy(self):\n",
    "        print(\"Phone Kharidana Hai\")"
   ]
  },
  {
   "cell_type": "code",
   "execution_count": 60,
   "metadata": {},
   "outputs": [],
   "source": [
    "s = mobilephone(20000,\"Samsung\")"
   ]
  },
  {
   "cell_type": "code",
   "execution_count": 62,
   "metadata": {},
   "outputs": [
    {
     "name": "stdout",
     "output_type": "stream",
     "text": [
      "Phone Kharidana Hai\n"
     ]
    }
   ],
   "source": [
    "s.buy()"
   ]
  },
  {
   "cell_type": "code",
   "execution_count": 63,
   "metadata": {},
   "outputs": [
    {
     "data": {
      "text/plain": [
       "20000"
      ]
     },
     "execution_count": 63,
     "metadata": {},
     "output_type": "execute_result"
    }
   ],
   "source": [
    "s.os"
   ]
  },
  {
   "cell_type": "code",
   "execution_count": 64,
   "metadata": {},
   "outputs": [
    {
     "ename": "AttributeError",
     "evalue": "'mobilephone' object has no attribute 'price'",
     "output_type": "error",
     "traceback": [
      "\u001b[1;31m---------------------------------------------------------------------------\u001b[0m",
      "\u001b[1;31mAttributeError\u001b[0m                            Traceback (most recent call last)",
      "Cell \u001b[1;32mIn[64], line 1\u001b[0m\n\u001b[1;32m----> 1\u001b[0m \u001b[43ms\u001b[49m\u001b[38;5;241;43m.\u001b[39;49m\u001b[43mprice\u001b[49m\n",
      "\u001b[1;31mAttributeError\u001b[0m: 'mobilephone' object has no attribute 'price'"
     ]
    }
   ],
   "source": [
    "s.price"
   ]
  },
  {
   "cell_type": "code",
   "execution_count": 65,
   "metadata": {},
   "outputs": [
    {
     "name": "stdout",
     "output_type": "stream",
     "text": [
      "We are inside the child class\n"
     ]
    }
   ],
   "source": [
    "class phone:\n",
    "    def __init__(self,price,brand):\n",
    "        print(\"We are inside the constrator\")\n",
    "        self.price = price\n",
    "        self.brand = brand\n",
    "        \n",
    "    def buy(self):\n",
    "        print(\"You bought a phone\")\n",
    "        \n",
    "class mobilephone(phone):\n",
    "    print(\"We are inside the child class\")\n",
    "    def __init__(self, os,ram):\n",
    "        self.os = os\n",
    "        self.ram = ram\n",
    "\n",
    "        super().__init__(2000,\"Samsung\")"
   ]
  },
  {
   "cell_type": "code",
   "execution_count": 66,
   "metadata": {},
   "outputs": [
    {
     "name": "stdout",
     "output_type": "stream",
     "text": [
      "We are inside the constrator\n"
     ]
    }
   ],
   "source": [
    "s = mobilephone(20000,\"Samsung\")"
   ]
  },
  {
   "cell_type": "code",
   "execution_count": 67,
   "metadata": {},
   "outputs": [
    {
     "name": "stdout",
     "output_type": "stream",
     "text": [
      "You bought a phone\n"
     ]
    }
   ],
   "source": [
    "s.buy()"
   ]
  },
  {
   "cell_type": "code",
   "execution_count": 68,
   "metadata": {},
   "outputs": [
    {
     "data": {
      "text/plain": [
       "20000"
      ]
     },
     "execution_count": 68,
     "metadata": {},
     "output_type": "execute_result"
    }
   ],
   "source": [
    "s.os"
   ]
  },
  {
   "cell_type": "code",
   "execution_count": 69,
   "metadata": {},
   "outputs": [
    {
     "data": {
      "text/plain": [
       "2000"
      ]
     },
     "execution_count": 69,
     "metadata": {},
     "output_type": "execute_result"
    }
   ],
   "source": [
    "s.price"
   ]
  },
  {
   "cell_type": "markdown",
   "metadata": {},
   "source": [
    "## **Over-riding**"
   ]
  },
  {
   "cell_type": "code",
   "execution_count": 7,
   "metadata": {},
   "outputs": [],
   "source": [
    "class phone:\n",
    "    def __init__(self,price,brand,camera):\n",
    "        print(\"Inside the constructor\")\n",
    "        \n",
    "        self.price = price\n",
    "        self.brand = brand\n",
    "        self.camera = camera\n",
    "        \n",
    "    def buy(self):\n",
    "        print(\"You bought a new phone\")\n",
    "        \n",
    "class smarphone(phone):\n",
    "    def buy(self):\n",
    "        print(\"You bought a phone\")"
   ]
  },
  {
   "cell_type": "code",
   "execution_count": 9,
   "metadata": {},
   "outputs": [
    {
     "name": "stdout",
     "output_type": "stream",
     "text": [
      "Inside the constructor\n"
     ]
    }
   ],
   "source": [
    "s = smarphone(2000,\"Samsung\",\"DSLR\")"
   ]
  },
  {
   "cell_type": "code",
   "execution_count": 10,
   "metadata": {},
   "outputs": [
    {
     "name": "stdout",
     "output_type": "stream",
     "text": [
      "You bought a phone\n"
     ]
    }
   ],
   "source": [
    "s.buy()"
   ]
  },
  {
   "cell_type": "markdown",
   "metadata": {},
   "source": [
    "## **Types of Inheritance**\n",
    "1. Single Inheritance:\n",
    "\n",
    "A child class inherits from a single parent class.\n",
    "This allows the child class to reuse the properties and methods of the parent class.\n",
    "\n",
    "2. Multiple Inheritance:\n",
    "\n",
    "A child class inherits from multiple parent classes.\n",
    "The child class gets access to attributes and methods from more than one parent, combining their functionalities.\n",
    "\n",
    "3. Multilevel Inheritance:\n",
    "\n",
    "A child class inherits from another child class, forming a chain of inheritance.\n",
    "This establishes a hierarchy where a subclass can inherit from a class that is already derived from another class.\n",
    "\n",
    "4. Hierarchical Inheritance:\n",
    "\n",
    "A single parent class is inherited by multiple child classes.\n",
    "This allows different child classes to share the functionality of the same parent class.\n",
    "\n",
    "5. Hybrid Inheritance:\n",
    "\n",
    "A combination of two or more types of inheritance.\n",
    "This is used when a class structure requires multiple inheritance strategies for better organization and functionality."
   ]
  },
  {
   "cell_type": "code",
   "execution_count": 12,
   "metadata": {},
   "outputs": [],
   "source": [
    "# Muli level inheritance\n",
    "\n",
    "class device:\n",
    "    def __init__(self,cost,manufacturer,camera):\n",
    "        print(\"We are inside the constrator\")\n",
    "        self.__cost = cost\n",
    "        self.manufacturer = manufacturer\n",
    "        self.camera = camera\n",
    "        \n",
    "    def buy(self):\n",
    "        print(\"You bought a device\")\n",
    "        \n",
    "class mobile(device):\n",
    "    pass\n",
    "\n",
    "\n",
    "class smartphone(mobile):\n",
    "    pass\n",
    "        "
   ]
  },
  {
   "cell_type": "code",
   "execution_count": 13,
   "metadata": {},
   "outputs": [
    {
     "name": "stdout",
     "output_type": "stream",
     "text": [
      "We are inside the constrator\n"
     ]
    }
   ],
   "source": [
    "m = mobile(2000,\"Samsung\",\"DSLR\")"
   ]
  },
  {
   "cell_type": "code",
   "execution_count": 15,
   "metadata": {},
   "outputs": [],
   "source": [
    "class device:\n",
    "    def review(self):\n",
    "        print(\"Product is good\")\n",
    "        \n",
    "class phone(device):\n",
    "    def __init__(self,price,brand,camera):\n",
    "        self.price = price\n",
    "        self.brand = brand\n",
    "        self.camera = camera\n",
    "        \n",
    "    def buy(self):\n",
    "        print(\"You bought a new phone\")\n",
    "        \n",
    "class smartphone(device):\n",
    "    pass"
   ]
  },
  {
   "cell_type": "code",
   "execution_count": 16,
   "metadata": {},
   "outputs": [
    {
     "name": "stdout",
     "output_type": "stream",
     "text": [
      "Inside the constructor\n"
     ]
    }
   ],
   "source": [
    "s = smarphone(2000,\"Samsung\",\"DSLR\")"
   ]
  },
  {
   "cell_type": "code",
   "execution_count": 17,
   "metadata": {},
   "outputs": [
    {
     "name": "stdout",
     "output_type": "stream",
     "text": [
      "You bought a phone\n"
     ]
    }
   ],
   "source": [
    "s.buy()"
   ]
  },
  {
   "cell_type": "code",
   "execution_count": 18,
   "metadata": {},
   "outputs": [
    {
     "data": {
      "text/plain": [
       "'Samsung'"
      ]
     },
     "execution_count": 18,
     "metadata": {},
     "output_type": "execute_result"
    }
   ],
   "source": [
    "s.brand"
   ]
  },
  {
   "cell_type": "code",
   "execution_count": 19,
   "metadata": {},
   "outputs": [
    {
     "data": {
      "text/plain": [
       "2000"
      ]
     },
     "execution_count": 19,
     "metadata": {},
     "output_type": "execute_result"
    }
   ],
   "source": [
    "s.price"
   ]
  },
  {
   "cell_type": "code",
   "execution_count": 20,
   "metadata": {},
   "outputs": [],
   "source": [
    "# Hierearchical Inheritance\n",
    "class phone:\n",
    "    def __init__(self,price,brand,camera):\n",
    "        self.price = price\n",
    "        self.brand = brand\n",
    "        self.camera = camera\n",
    "        \n",
    "    def buy(self):\n",
    "        print(\"You bought a new phone\")\n",
    "        \n",
    "class smartphone(phone):\n",
    "    pass\n",
    "\n",
    "class iphone(phone):\n",
    "    pass"
   ]
  },
  {
   "cell_type": "code",
   "execution_count": 22,
   "metadata": {},
   "outputs": [],
   "source": [
    "s1 = iphone(2000,\"Apple\",\"DSLR\")\n",
    "s2 = smartphone(2000,\"Samsung\",\"DSLR\")"
   ]
  },
  {
   "cell_type": "code",
   "execution_count": 23,
   "metadata": {},
   "outputs": [
    {
     "name": "stdout",
     "output_type": "stream",
     "text": [
      "You bought a new phone\n"
     ]
    }
   ],
   "source": [
    "s1.buy()"
   ]
  },
  {
   "cell_type": "code",
   "execution_count": 24,
   "metadata": {},
   "outputs": [
    {
     "name": "stdout",
     "output_type": "stream",
     "text": [
      "You bought a new phone\n"
     ]
    }
   ],
   "source": [
    "s2.buy()"
   ]
  },
  {
   "cell_type": "code",
   "execution_count": 25,
   "metadata": {},
   "outputs": [
    {
     "data": {
      "text/plain": [
       "'Apple'"
      ]
     },
     "execution_count": 25,
     "metadata": {},
     "output_type": "execute_result"
    }
   ],
   "source": [
    "s1.brand"
   ]
  },
  {
   "cell_type": "code",
   "execution_count": 26,
   "metadata": {},
   "outputs": [
    {
     "data": {
      "text/plain": [
       "'Samsung'"
      ]
     },
     "execution_count": 26,
     "metadata": {},
     "output_type": "execute_result"
    }
   ],
   "source": [
    "s2.brand"
   ]
  },
  {
   "cell_type": "code",
   "execution_count": 27,
   "metadata": {},
   "outputs": [],
   "source": [
    "class phone:\n",
    "    def __init__(self,price,brand,camera):\n",
    "        self.price = price\n",
    "        self.brand = brand\n",
    "        self.camera = camera\n",
    "        \n",
    "    def buy(self): \n",
    "        print(\"You bought a new phone\")\n",
    "        \n",
    "class product:\n",
    "    def review(self):\n",
    "        print(\"Product is good\")\n",
    "        \n",
    "class smarphone(phone,product):\n",
    "    pass"
   ]
  },
  {
   "cell_type": "code",
   "execution_count": 29,
   "metadata": {},
   "outputs": [
    {
     "name": "stdout",
     "output_type": "stream",
     "text": [
      "You bought a new phone\n",
      "Product is good\n"
     ]
    }
   ],
   "source": [
    "s = smarphone(2000,\"Samsung\",\"DSLR\")\n",
    "s.buy()\n",
    "s.review()"
   ]
  },
  {
   "cell_type": "markdown",
   "metadata": {},
   "source": [
    "# **Class Method**"
   ]
  },
  {
   "cell_type": "code",
   "execution_count": 32,
   "metadata": {},
   "outputs": [],
   "source": [
    "class ineuron:\n",
    "    def __init__(self,name,email):\n",
    "        self.name = name\n",
    "        self.email = email\n",
    "        \n",
    "    @classmethod  #Decorator\n",
    "    def details(cls,name,email):\n",
    "        return cls(name,email)\n",
    "        \n",
    "    def student_details(self):\n",
    "        print(self.name,self.email)\n",
    "        "
   ]
  },
  {
   "cell_type": "code",
   "execution_count": 34,
   "metadata": {},
   "outputs": [],
   "source": [
    "in1 = ineuron(\"Vikas\",\"abcd@ineuron\")"
   ]
  },
  {
   "cell_type": "code",
   "execution_count": 35,
   "metadata": {},
   "outputs": [
    {
     "data": {
      "text/plain": [
       "<__main__.ineuron at 0x2413d207be0>"
      ]
     },
     "execution_count": 35,
     "metadata": {},
     "output_type": "execute_result"
    }
   ],
   "source": [
    "ineuron.details(\"Vikas\",\"abcd@ineuron\")"
   ]
  },
  {
   "cell_type": "code",
   "execution_count": 36,
   "metadata": {},
   "outputs": [
    {
     "data": {
      "text/plain": [
       "'abcd@ineuron'"
      ]
     },
     "execution_count": 36,
     "metadata": {},
     "output_type": "execute_result"
    }
   ],
   "source": [
    "ineuron.details(\"Vikas\",\"abcd@ineuron\").email"
   ]
  },
  {
   "cell_type": "code",
   "execution_count": 37,
   "metadata": {},
   "outputs": [
    {
     "name": "stdout",
     "output_type": "stream",
     "text": [
      "Vikas abcd@ineuron\n"
     ]
    }
   ],
   "source": [
    "ineuron.details(\"Vikas\",\"abcd@ineuron\").student_details()"
   ]
  },
  {
   "cell_type": "code",
   "execution_count": 38,
   "metadata": {},
   "outputs": [
    {
     "data": {
      "text/plain": [
       "'Vikas'"
      ]
     },
     "execution_count": 38,
     "metadata": {},
     "output_type": "execute_result"
    }
   ],
   "source": [
    "ineuron.details(\"Vikas\",\"abcd@ineuron\").name"
   ]
  },
  {
   "cell_type": "code",
   "execution_count": 39,
   "metadata": {},
   "outputs": [],
   "source": [
    "a = ineuron.details(\"Vikas\",\"abcd@ineuron\")"
   ]
  },
  {
   "cell_type": "code",
   "execution_count": 40,
   "metadata": {},
   "outputs": [
    {
     "data": {
      "text/plain": [
       "'Vikas'"
      ]
     },
     "execution_count": 40,
     "metadata": {},
     "output_type": "execute_result"
    }
   ],
   "source": [
    "a.name"
   ]
  },
  {
   "cell_type": "code",
   "execution_count": 41,
   "metadata": {},
   "outputs": [],
   "source": [
    "class ineuron1:\n",
    "    \n",
    "    mobile_num = 9876543210\n",
    "    \n",
    "    def __init__(self,name,email):\n",
    "        self.name = name\n",
    "        self.email = email\n",
    "        \n",
    "    @classmethod  #Decorator\n",
    "    def details(cls,name,email):\n",
    "        return cls(name,email)\n",
    "        \n",
    "    def student_details(self):\n",
    "        print(self.name,self.email)\n",
    "        "
   ]
  },
  {
   "cell_type": "code",
   "execution_count": 42,
   "metadata": {},
   "outputs": [
    {
     "data": {
      "text/plain": [
       "9876543210"
      ]
     },
     "execution_count": 42,
     "metadata": {},
     "output_type": "execute_result"
    }
   ],
   "source": [
    "ineuron1.mobile_num"
   ]
  },
  {
   "cell_type": "code",
   "execution_count": 50,
   "metadata": {},
   "outputs": [],
   "source": [
    "class ineuron1:\n",
    "    \n",
    "    mobile_num = 9876543210\n",
    "    \n",
    "    def __init__(self,name,email):\n",
    "        self.name = name\n",
    "        self.email = email\n",
    "        \n",
    "    @classmethod  #Decorator\n",
    "    def change_number(cls,num):\n",
    "        cls.mobile_num = num\n",
    "        \n",
    "    @classmethod  #Decorator\n",
    "    def details(cls,name,email):\n",
    "        return cls(name,email)\n",
    "        \n",
    "    def student_details(self):\n",
    "        print(self.name,self.email, self.mobile_num)  # here also we can use ineuron1 on the place of self\n",
    "        "
   ]
  },
  {
   "cell_type": "code",
   "execution_count": 51,
   "metadata": {},
   "outputs": [],
   "source": [
    "ineuron1.change_number(1234567890)"
   ]
  },
  {
   "cell_type": "code",
   "execution_count": 52,
   "metadata": {},
   "outputs": [
    {
     "data": {
      "text/plain": [
       "1234567890"
      ]
     },
     "execution_count": 52,
     "metadata": {},
     "output_type": "execute_result"
    }
   ],
   "source": [
    "ineuron1.mobile_num"
   ]
  },
  {
   "cell_type": "code",
   "execution_count": 53,
   "metadata": {},
   "outputs": [
    {
     "name": "stdout",
     "output_type": "stream",
     "text": [
      "Vikas abcd@ineuron 1234567890\n"
     ]
    }
   ],
   "source": [
    "in2 = ineuron1(\"Vikas\",\"abcd@ineuron\")\n",
    "in2.student_details()"
   ]
  },
  {
   "cell_type": "code",
   "execution_count": 54,
   "metadata": {},
   "outputs": [],
   "source": [
    "def mentor(cls,list_of_mentors):\n",
    "    print(\"List of mentors are :\",list_of_mentors)"
   ]
  },
  {
   "cell_type": "code",
   "execution_count": 55,
   "metadata": {},
   "outputs": [],
   "source": [
    "ineuron1.mentor = classmethod(mentor)"
   ]
  },
  {
   "cell_type": "code",
   "execution_count": 56,
   "metadata": {},
   "outputs": [
    {
     "name": "stdout",
     "output_type": "stream",
     "text": [
      "List of mentors are : ['Vikas', 'muskan@gmail.com']\n"
     ]
    }
   ],
   "source": [
    "ineuron1.mentor([\"Vikas\",\"muskan@gmail.com\"])"
   ]
  },
  {
   "cell_type": "code",
   "execution_count": 57,
   "metadata": {},
   "outputs": [],
   "source": [
    "del ineuron1.change_number"
   ]
  },
  {
   "cell_type": "markdown",
   "metadata": {},
   "source": [
    "# **Static Method**"
   ]
  },
  {
   "cell_type": "code",
   "execution_count": 59,
   "metadata": {},
   "outputs": [],
   "source": [
    "class ineuron3:\n",
    "    def student_details(self,name,email):\n",
    "        print(name,email)"
   ]
  },
  {
   "cell_type": "code",
   "execution_count": 60,
   "metadata": {},
   "outputs": [],
   "source": [
    "in3 = ineuron3()"
   ]
  },
  {
   "cell_type": "code",
   "execution_count": 62,
   "metadata": {},
   "outputs": [
    {
     "name": "stdout",
     "output_type": "stream",
     "text": [
      "Vikas abcd@ineuron\n"
     ]
    }
   ],
   "source": [
    "in3.student_details(\"Vikas\",\"abcd@ineuron\")"
   ]
  },
  {
   "cell_type": "code",
   "execution_count": 66,
   "metadata": {},
   "outputs": [],
   "source": [
    "class ineuron3:\n",
    "    def student_details(self,name,email):\n",
    "        print(name,email)\n",
    "        \n",
    "    @staticmethod\n",
    "    def mentor_class(list_of_mentors):\n",
    "        print(\"List of mentors are :\",list_of_mentors)\n",
    "        \n",
    "    @classmethod\n",
    "    def class_name(cls,class_name):\n",
    "        cls.mentor_class([\"Vikas\",\"Muskan\"])\n",
    "    \n",
    "    \n",
    "    def mentor(self,mentor_list):\n",
    "        print(\"List of mentors are :\",mentor_list)"
   ]
  },
  {
   "cell_type": "code",
   "execution_count": 67,
   "metadata": {},
   "outputs": [
    {
     "name": "stdout",
     "output_type": "stream",
     "text": [
      "List of mentors are : ['vikas', 'muskan']\n"
     ]
    }
   ],
   "source": [
    "ineuron3.mentor_class([\"vikas\",\"muskan\"])"
   ]
  },
  {
   "cell_type": "code",
   "execution_count": 68,
   "metadata": {},
   "outputs": [],
   "source": [
    "std1 = ineuron3()"
   ]
  },
  {
   "cell_type": "code",
   "execution_count": 70,
   "metadata": {},
   "outputs": [
    {
     "name": "stdout",
     "output_type": "stream",
     "text": [
      "List of mentors are : ['Vikas', 'Muskan']\n"
     ]
    }
   ],
   "source": [
    "std1.class_name([\"vikas\",\"prince\"])"
   ]
  },
  {
   "cell_type": "code",
   "execution_count": 71,
   "metadata": {},
   "outputs": [
    {
     "name": "stdout",
     "output_type": "stream",
     "text": [
      "The End\n"
     ]
    }
   ],
   "source": [
    "print(\"The End\")"
   ]
  }
 ],
 "metadata": {
  "kernelspec": {
   "display_name": "Python 3",
   "language": "python",
   "name": "python3"
  },
  "language_info": {
   "codemirror_mode": {
    "name": "ipython",
    "version": 3
   },
   "file_extension": ".py",
   "mimetype": "text/x-python",
   "name": "python",
   "nbconvert_exporter": "python",
   "pygments_lexer": "ipython3",
   "version": "3.10.0"
  }
 },
 "nbformat": 4,
 "nbformat_minor": 2
}
