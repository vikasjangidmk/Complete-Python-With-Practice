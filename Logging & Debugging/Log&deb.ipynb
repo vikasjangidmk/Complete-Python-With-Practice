{
 "cells": [
  {
   "cell_type": "code",
   "execution_count": 1,
   "metadata": {},
   "outputs": [],
   "source": [
    "def div(x,y):\n",
    "    return x+y\n",
    "\n",
    "a = div(2,3)"
   ]
  },
  {
   "cell_type": "code",
   "execution_count": 2,
   "metadata": {},
   "outputs": [
    {
     "data": {
      "text/plain": [
       "5"
      ]
     },
     "execution_count": 2,
     "metadata": {},
     "output_type": "execute_result"
    }
   ],
   "source": [
    "a"
   ]
  },
  {
   "cell_type": "code",
   "execution_count": 4,
   "metadata": {},
   "outputs": [
    {
     "name": "stderr",
     "output_type": "stream",
     "text": [
      "INFO:root:Logging is stating\n"
     ]
    },
    {
     "name": "stdout",
     "output_type": "stream",
     "text": [
      "This is my print statement\n"
     ]
    }
   ],
   "source": [
    "import logging\n",
    "import logging.config\n",
    "\n",
    "logging.basicConfig(level=logging.INFO)\n",
    "\n",
    "print(\"This is my print statement\")\n",
    "logging.info(\"Logging is stating\")"
   ]
  },
  {
   "cell_type": "code",
   "execution_count": 6,
   "metadata": {},
   "outputs": [
    {
     "name": "stderr",
     "output_type": "stream",
     "text": [
      "INFO:root:Logging is stating\n",
      "WARNING:root:This is my warning\n",
      "ERROR:root:This is my first error\n"
     ]
    },
    {
     "name": "stdout",
     "output_type": "stream",
     "text": [
      "This is my print statement\n"
     ]
    }
   ],
   "source": [
    "import logging\n",
    "import logging.config\n",
    "\n",
    "logging.basicConfig(level=logging.INFO)\n",
    "\n",
    "print(\"This is my print statement\")\n",
    "logging.info(\"Logging is stating\")\n",
    "logging.warning(\"This is my warning\")\n",
    "logging.error(\"This is my first error\")"
   ]
  },
  {
   "cell_type": "markdown",
   "metadata": {},
   "source": [
    "| Log Level    | **Include**                 | **Exclude**                  |\n",
    "|--------------|-----------------------------|------------------------------|\n",
    "| **INFO**     | Logs all events (INFO and higher) like INFO, WARNING, ERROR, CRITICAL. | Excludes INFO-level messages; logs higher levels (e.g., WARNING and above). |\n",
    "| **DEBUG**    | Logs all events (DEBUG and higher) like DEBUG, INFO, WARNING, ERROR, CRITICAL. | Excludes DEBUG messages; logs INFO and higher. |\n",
    "| **ERROR**    | Logs ERROR and CRITICAL events only. | Excludes ERROR messages; logs CRITICAL or nothing. |\n",
    "| **CRITICAL** | Logs CRITICAL events only. | Excludes CRITICAL-level messages completely. |\n",
    "| **WARNING**  | Logs WARNING, ERROR, and CRITICAL events. | Excludes WARNING messages; logs ERROR and CRITICAL. |\n"
   ]
  },
  {
   "cell_type": "markdown",
   "metadata": {},
   "source": [
    "### Where to use logging"
   ]
  },
  {
   "cell_type": "code",
   "execution_count": 7,
   "metadata": {},
   "outputs": [],
   "source": [
    "import logging\n",
    "\n",
    "def some_function():\n",
    "    logging.info(\"Entering some function\")\n",
    "    # Function logic here\n",
    "    logging.info(\"Exiting some function\")"
   ]
  },
  {
   "cell_type": "code",
   "execution_count": 8,
   "metadata": {},
   "outputs": [
    {
     "name": "stderr",
     "output_type": "stream",
     "text": [
      "ERROR:root:An error occurred: division by zero\n",
      "Traceback (most recent call last):\n",
      "  File \"C:\\Users\\vikas\\AppData\\Local\\Temp\\ipykernel_15856\\2370661636.py\", line 5, in <module>\n",
      "    result = 1/0\n",
      "ZeroDivisionError: division by zero\n"
     ]
    }
   ],
   "source": [
    "import logging\n",
    "\n",
    "try:\n",
    "    # Code that may raise an exception\n",
    "    result = 1/0\n",
    "except Exception as e:\n",
    "    logging.error(f\"An error occurred: {e}\", exc_info=True)"
   ]
  },
  {
   "cell_type": "code",
   "execution_count": 12,
   "metadata": {},
   "outputs": [
    {
     "name": "stdout",
     "output_type": "stream",
     "text": [
      "0\n",
      "1\n",
      "2\n",
      "3\n",
      "4\n"
     ]
    }
   ],
   "source": [
    "import logging \n",
    "\n",
    "for i in range(5):\n",
    "    logging.debug(f\"Iteration {i+1} of the loop\")\n",
    "    # Loop logic here\n",
    "    print(i)"
   ]
  },
  {
   "cell_type": "code",
   "execution_count": 13,
   "metadata": {},
   "outputs": [],
   "source": [
    "import logging\n",
    "\n",
    "def process_input(data):\n",
    "    if not isinstance(data,int):\n",
    "        logging.warning(\"Input data is not an integer\")\n",
    "    # Process the input data"
   ]
  },
  {
   "cell_type": "code",
   "execution_count": 14,
   "metadata": {},
   "outputs": [
    {
     "name": "stderr",
     "output_type": "stream",
     "text": [
      "INFO:root:Opening file...\n"
     ]
    },
    {
     "ename": "FileNotFoundError",
     "evalue": "[Errno 2] No such file or directory: 'example.txt'",
     "output_type": "error",
     "traceback": [
      "\u001b[1;31m---------------------------------------------------------------------------\u001b[0m",
      "\u001b[1;31mFileNotFoundError\u001b[0m                         Traceback (most recent call last)",
      "Cell \u001b[1;32mIn[14], line 5\u001b[0m\n\u001b[0;32m      3\u001b[0m \u001b[38;5;66;03m# Opening a file\u001b[39;00m\n\u001b[0;32m      4\u001b[0m logging\u001b[38;5;241m.\u001b[39minfo(\u001b[38;5;124m\"\u001b[39m\u001b[38;5;124mOpening file...\u001b[39m\u001b[38;5;124m\"\u001b[39m)\n\u001b[1;32m----> 5\u001b[0m \u001b[38;5;28;01mwith\u001b[39;00m \u001b[38;5;28;43mopen\u001b[39;49m\u001b[43m(\u001b[49m\u001b[38;5;124;43m\"\u001b[39;49m\u001b[38;5;124;43mexample.txt\u001b[39;49m\u001b[38;5;124;43m\"\u001b[39;49m\u001b[43m,\u001b[49m\u001b[38;5;124;43m\"\u001b[39;49m\u001b[38;5;124;43mr\u001b[39;49m\u001b[38;5;124;43m\"\u001b[39;49m\u001b[43m)\u001b[49m \u001b[38;5;28;01mas\u001b[39;00m file:\n\u001b[0;32m      6\u001b[0m     \u001b[38;5;66;03m# File processing logic\u001b[39;00m\n\u001b[0;32m      7\u001b[0m     logging\u001b[38;5;241m.\u001b[39minfo(\u001b[38;5;124m\"\u001b[39m\u001b[38;5;124mFile Closed\u001b[39m\u001b[38;5;124m\"\u001b[39m)\n",
      "File \u001b[1;32mc:\\Users\\vikas\\OneDrive\\Desktop\\Complete-Python-With-Practice\\PYTHON\\lib\\site-packages\\IPython\\core\\interactiveshell.py:324\u001b[0m, in \u001b[0;36m_modified_open\u001b[1;34m(file, *args, **kwargs)\u001b[0m\n\u001b[0;32m    317\u001b[0m \u001b[38;5;28;01mif\u001b[39;00m file \u001b[38;5;129;01min\u001b[39;00m {\u001b[38;5;241m0\u001b[39m, \u001b[38;5;241m1\u001b[39m, \u001b[38;5;241m2\u001b[39m}:\n\u001b[0;32m    318\u001b[0m     \u001b[38;5;28;01mraise\u001b[39;00m \u001b[38;5;167;01mValueError\u001b[39;00m(\n\u001b[0;32m    319\u001b[0m         \u001b[38;5;124mf\u001b[39m\u001b[38;5;124m\"\u001b[39m\u001b[38;5;124mIPython won\u001b[39m\u001b[38;5;124m'\u001b[39m\u001b[38;5;124mt let you open fd=\u001b[39m\u001b[38;5;132;01m{\u001b[39;00mfile\u001b[38;5;132;01m}\u001b[39;00m\u001b[38;5;124m by default \u001b[39m\u001b[38;5;124m\"\u001b[39m\n\u001b[0;32m    320\u001b[0m         \u001b[38;5;124m\"\u001b[39m\u001b[38;5;124mas it is likely to crash IPython. If you know what you are doing, \u001b[39m\u001b[38;5;124m\"\u001b[39m\n\u001b[0;32m    321\u001b[0m         \u001b[38;5;124m\"\u001b[39m\u001b[38;5;124myou can use builtins\u001b[39m\u001b[38;5;124m'\u001b[39m\u001b[38;5;124m open.\u001b[39m\u001b[38;5;124m\"\u001b[39m\n\u001b[0;32m    322\u001b[0m     )\n\u001b[1;32m--> 324\u001b[0m \u001b[38;5;28;01mreturn\u001b[39;00m io_open(file, \u001b[38;5;241m*\u001b[39margs, \u001b[38;5;241m*\u001b[39m\u001b[38;5;241m*\u001b[39mkwargs)\n",
      "\u001b[1;31mFileNotFoundError\u001b[0m: [Errno 2] No such file or directory: 'example.txt'"
     ]
    }
   ],
   "source": [
    "import logging\n",
    "\n",
    "# Opening a file\n",
    "logging.info(\"Opening file...\")\n",
    "with open(\"example.txt\",\"r\") as file:\n",
    "    # File processing logic\n",
    "    logging.info(\"File Closed\")"
   ]
  },
  {
   "cell_type": "code",
   "execution_count": 16,
   "metadata": {},
   "outputs": [
    {
     "name": "stdout",
     "output_type": "stream",
     "text": [
      "5.0\n"
     ]
    }
   ],
   "source": [
    "def div(x,y):\n",
    "    \n",
    "    result = x/y\n",
    "    \n",
    "    return result\n",
    "\n",
    "x = 10\n",
    "y = 2\n",
    "result = div(x,y)\n",
    "print(result)"
   ]
  },
  {
   "cell_type": "code",
   "execution_count": 17,
   "metadata": {},
   "outputs": [
    {
     "name": "stderr",
     "output_type": "stream",
     "text": [
      "INFO:root:Division of 10 by 2  is 5.0\n"
     ]
    },
    {
     "name": "stdout",
     "output_type": "stream",
     "text": [
      "5.0\n"
     ]
    }
   ],
   "source": [
    "import logging\n",
    "logging.basicConfig(level=logging.DEBUG)\n",
    "\n",
    "def div(x,y):\n",
    "    \n",
    "    try:\n",
    "    \n",
    "        result = x/y\n",
    "        logging.info(f\"Division of {x} by {y}  is {result}\")\n",
    "    \n",
    "        return result\n",
    "    \n",
    "    except ZeroDivisionError as e:\n",
    "        logging.error(\"Division Error Occure\")\n",
    "\n",
    "x = 10\n",
    "y = 2\n",
    "result = div(x,y)\n",
    "print(result)"
   ]
  },
  {
   "cell_type": "code",
   "execution_count": 18,
   "metadata": {},
   "outputs": [
    {
     "name": "stderr",
     "output_type": "stream",
     "text": [
      "ERROR:root:Division Error Occure\n"
     ]
    },
    {
     "name": "stdout",
     "output_type": "stream",
     "text": [
      "None\n"
     ]
    }
   ],
   "source": [
    "import logging\n",
    "logging.basicConfig(level=logging.DEBUG)\n",
    "\n",
    "def div(x,y):\n",
    "    \n",
    "    try:\n",
    "    \n",
    "        result = x/y\n",
    "        logging.info(f\"Division of {x} by {y}  is {result}\")\n",
    "    \n",
    "        return result\n",
    "    \n",
    "    except ZeroDivisionError as e:\n",
    "        logging.error(\"Division Error Occure\")\n",
    "\n",
    "x = 10\n",
    "y = 0\n",
    "result = div(x,y)\n",
    "print(result)"
   ]
  },
  {
   "cell_type": "code",
   "execution_count": 22,
   "metadata": {},
   "outputs": [
    {
     "name": "stderr",
     "output_type": "stream",
     "text": [
      "ERROR:root:Addition problem: unsupported operand type(s) for +: 'int' and 'str'\n"
     ]
    },
    {
     "name": "stdout",
     "output_type": "stream",
     "text": [
      "Could not perform addition.\n"
     ]
    }
   ],
   "source": [
    "import logging\n",
    "\n",
    "logging.basicConfig(level=logging.DEBUG)\n",
    "\n",
    "def fun(x, y):\n",
    "    try:\n",
    "        result = x + y\n",
    "        logging.info(f\"Addition of {x} and {y} is {result}\")\n",
    "        return result\n",
    "    except Exception as e:\n",
    "        logging.error(f\"Addition problem: {e}\")\n",
    "        return None  \n",
    "\n",
    "\n",
    "x = 6\n",
    "y = \"b\"\n",
    "result = fun(x, y)\n",
    "\n",
    "if result is not None:\n",
    "    print(f\"Result: {result}\")\n",
    "else:\n",
    "    print(\"Could not perform addition.\")\n"
   ]
  },
  {
   "cell_type": "code",
   "execution_count": 1,
   "metadata": {},
   "outputs": [
    {
     "name": "stderr",
     "output_type": "stream",
     "text": [
      "2025-01-12 12:35:18,384- ERROR- Division Error Occure\n"
     ]
    },
    {
     "name": "stdout",
     "output_type": "stream",
     "text": [
      "None\n"
     ]
    }
   ],
   "source": [
    "import logging\n",
    "logging.basicConfig(level=logging.DEBUG, format= '%(asctime)s- %(levelname)s- %(message)s',force=True)\n",
    "\n",
    "def div(x,y):\n",
    "    \n",
    "    try:\n",
    "    \n",
    "        result = x/y\n",
    "        logging.info(f\"Division of {x} by {y}  is {result}\")\n",
    "    \n",
    "        return result\n",
    "    \n",
    "    except ZeroDivisionError as e:\n",
    "        logging.error(\"Division Error Occure\")\n",
    "\n",
    "x = 10\n",
    "y = 0\n",
    "result = div(x,y)\n",
    "print(result)"
   ]
  },
  {
   "cell_type": "code",
   "execution_count": 4,
   "metadata": {},
   "outputs": [
    {
     "data": {
      "text/plain": [
       "120"
      ]
     },
     "execution_count": 4,
     "metadata": {},
     "output_type": "execute_result"
    }
   ],
   "source": [
    "#import logging\n",
    "#logging.basicConfig(filename=\"myfile1.log\",level=logging.DEBUG, format= '%(asctime)s- %(levelname)s- %(message)s',force=True)\n",
    "\n",
    "def factorial(n):\n",
    "    if n < 0 :\n",
    "        return None\n",
    "    elif n == 0:\n",
    "        return 1 \n",
    "    else: \n",
    "        result = 1\n",
    "        for i in range(1, n+1):\n",
    "            result *= i\n",
    "        return result\n",
    "    \n",
    "n = 5\n",
    "fact = factorial(n)\n",
    "fact"
   ]
  },
  {
   "cell_type": "code",
   "execution_count": 10,
   "metadata": {},
   "outputs": [
    {
     "name": "stdout",
     "output_type": "stream",
     "text": [
      "None\n",
      "Error Occuring\n"
     ]
    }
   ],
   "source": [
    "import logging\n",
    "logging.basicConfig(filename=\"myfile1.log\",level=logging.DEBUG, format= '%(asctime)s- %(levelname)s- %(message)s',force=True)\n",
    "\n",
    "def factorial(n):\n",
    "    if n < 0 :\n",
    "        logging.error(\"Input cannot be negative\")\n",
    "        return None\n",
    "    elif n == 0:\n",
    "        logging.warning(\"Factotial of 0 is 1\")\n",
    "        return 1 \n",
    "    else: \n",
    "        result = 1\n",
    "        for i in range(1, n+1):\n",
    "            result *= i\n",
    "            logging.info(f\"Factorial of {n} is {result}\")\n",
    "        return result\n",
    "    \n",
    "n = -1\n",
    "fact = factorial(n)\n",
    "print(fact)\n",
    "\n",
    "if fact is not None:\n",
    "    print(f\"The Factorial of {n} is {fact}\")\n",
    "else:\n",
    "    print(\"Error Occuring\")"
   ]
  },
  {
   "cell_type": "code",
   "execution_count": 12,
   "metadata": {},
   "outputs": [
    {
     "name": "stdout",
     "output_type": "stream",
     "text": [
      "22\n"
     ]
    }
   ],
   "source": [
    "def addition(*args):\n",
    "    sum = 0\n",
    "    for i in args:\n",
    "        sum = sum + i\n",
    "    return sum\n",
    "\n",
    "print(addition(1,2,2,3,4,5,5))"
   ]
  },
  {
   "cell_type": "code",
   "execution_count": 13,
   "metadata": {},
   "outputs": [
    {
     "name": "stdout",
     "output_type": "stream",
     "text": [
      "22\n"
     ]
    }
   ],
   "source": [
    "import logging\n",
    "logging.basicConfig(filename=\"myfile2.log\",level=logging.DEBUG, format= '%(asctime)s- %(levelname)s- %(message)s',force=True)\n",
    "\n",
    "\n",
    "def addition(*args):\n",
    "    logging.info(\"Function is Starting\")\n",
    "    sum = 0\n",
    "    for i in args:\n",
    "        logging.info(f\"Value of i is {i}\")\n",
    "        sum = sum + i\n",
    "    return sum\n",
    "\n",
    "print(addition(1,2,2,3,4,5,5))"
   ]
  },
  {
   "cell_type": "code",
   "execution_count": 14,
   "metadata": {},
   "outputs": [
    {
     "name": "stdout",
     "output_type": "stream",
     "text": [
      "2025-01-12 12:46:04,572- INFO- Factorial of 2 is 1\n",
      "2025-01-12 12:46:04,572- INFO- Factorial of 2 is 2\n",
      "2025-01-12 12:46:12,121- INFO- Factorial of 5 is 1\n",
      "2025-01-12 12:46:12,122- INFO- Factorial of 5 is 2\n",
      "2025-01-12 12:46:12,122- INFO- Factorial of 5 is 6\n",
      "2025-01-12 12:46:12,122- INFO- Factorial of 5 is 24\n",
      "2025-01-12 12:46:12,122- INFO- Factorial of 5 is 120\n",
      "2025-01-12 12:46:25,348- WARNING- Factotial of 0 is 1\n",
      "2025-01-12 12:46:46,097- INFO- Factorial of 1 is 1\n",
      "2025-01-12 12:48:52,049- ERROR- Input cannot be negative\n",
      "\n",
      "22\n"
     ]
    }
   ],
   "source": [
    "import logging\n",
    "logging.basicConfig(filename=\"myfile2.log\",level=logging.DEBUG, format= '%(asctime)s- %(levelname)s- %(message)s',force=True)\n",
    "\n",
    "\n",
    "def addition(*args):\n",
    "    logging.info(\"Function is Starting\")\n",
    "    sum = 0\n",
    "    for i in args:\n",
    "        logging.info(f\"Value of i is {i}\")\n",
    "        sum = sum + i\n",
    "    return sum\n",
    "\n",
    "f = open(\"myfile1.log\",\"r\")\n",
    "print(f.read())\n",
    "print(addition(1,2,2,3,4,5,5))"
   ]
  },
  {
   "cell_type": "code",
   "execution_count": 15,
   "metadata": {},
   "outputs": [
    {
     "name": "stdout",
     "output_type": "stream",
     "text": [
      "The End\n"
     ]
    }
   ],
   "source": [
    "print(\"The End\")"
   ]
  }
 ],
 "metadata": {
  "kernelspec": {
   "display_name": "Python 3",
   "language": "python",
   "name": "python3"
  },
  "language_info": {
   "codemirror_mode": {
    "name": "ipython",
    "version": 3
   },
   "file_extension": ".py",
   "mimetype": "text/x-python",
   "name": "python",
   "nbconvert_exporter": "python",
   "pygments_lexer": "ipython3",
   "version": "3.10.0"
  }
 },
 "nbformat": 4,
 "nbformat_minor": 2
}
