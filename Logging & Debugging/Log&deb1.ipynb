{
 "cells": [
  {
   "cell_type": "code",
   "execution_count": 1,
   "metadata": {},
   "outputs": [
    {
     "name": "stdout",
     "output_type": "stream",
     "text": [
      "13\n"
     ]
    }
   ],
   "source": [
    "def perform_operation(operation,x,y):\n",
    "    if operation == '+':\n",
    "        result = x + y\n",
    "    elif operation == '-':\n",
    "        result = x - y\n",
    "    elif operation == '*':\n",
    "        result = x * y\n",
    "    elif operation == '/':\n",
    "        result = x/y\n",
    "    return result\n",
    "\n",
    "operation = '+'\n",
    "x = 10\n",
    "y = 3\n",
    "\n",
    "result = perform_operation(operation,x,y)\n",
    "print(result)"
   ]
  },
  {
   "cell_type": "code",
   "execution_count": 2,
   "metadata": {},
   "outputs": [
    {
     "name": "stdout",
     "output_type": "stream",
     "text": [
      "13\n"
     ]
    }
   ],
   "source": [
    "def perform_operation(operation,x,y):\n",
    "    try:\n",
    "        if operation == '+':\n",
    "            result = x + y\n",
    "        elif operation == '-':\n",
    "            result = x - y\n",
    "        elif operation == '*':\n",
    "            result = x * y\n",
    "        elif operation == '/':\n",
    "            result = x/y\n",
    "        return result\n",
    "    except Exception as e:\n",
    "        print(e)\n",
    "operation = '+'\n",
    "x = 10\n",
    "y = 3\n",
    "\n",
    "result = perform_operation(operation,x,y)\n",
    "print(result)"
   ]
  },
  {
   "cell_type": "code",
   "execution_count": 3,
   "metadata": {},
   "outputs": [
    {
     "name": "stdout",
     "output_type": "stream",
     "text": [
      "13\n"
     ]
    }
   ],
   "source": [
    "def perform_operation(operation,x,y):\n",
    "    try:\n",
    "        if operation == '+':\n",
    "            result = x + y\n",
    "        elif operation == '-':\n",
    "            result = x - y\n",
    "        elif operation == '*':\n",
    "            result = x * y\n",
    "        elif operation == '/':\n",
    "            result = x/y\n",
    "        else:\n",
    "            raise ValueError(\"Invalid Operation\")\n",
    "        return result\n",
    "    except Exception as e:\n",
    "        print(e)\n",
    "    \n",
    "operation = '+'\n",
    "x = 10\n",
    "y = 3\n",
    "\n",
    "result = perform_operation(operation,x,y)\n",
    "print(result)"
   ]
  },
  {
   "cell_type": "code",
   "execution_count": 4,
   "metadata": {},
   "outputs": [
    {
     "name": "stdout",
     "output_type": "stream",
     "text": [
      "Result of + operation on 10 and 3 is 13\n"
     ]
    }
   ],
   "source": [
    "import logging\n",
    "logging.basicConfig(\n",
    "    filename='myfile3.log',\n",
    "    level=logging.DEBUG,\n",
    "    format='%(asctime)s-%(levelname)s-%(message)s',\n",
    "    force=True\n",
    ")\n",
    "\n",
    "def perform_operation(operation, x, y):\n",
    "    try:\n",
    "        if operation == '+':\n",
    "            result = x + y\n",
    "        elif operation == '-':\n",
    "            result = x - y\n",
    "        elif operation == '*':\n",
    "            result = x * y\n",
    "        elif operation == '/':\n",
    "            result = x / y\n",
    "        else:\n",
    "            raise ValueError(\"Invalid Operation\")\n",
    "        \n",
    "        logging.info(f\"Operation '{operation}' performed on {x} and {y}, result = {result}\")\n",
    "        return result\n",
    "\n",
    "    except Exception as e:\n",
    "        logging.error(f\"Error during operation '{operation}': {e}\")\n",
    "        return None\n",
    "\n",
    "\n",
    "operation = '+'\n",
    "x = 10\n",
    "y = 3\n",
    "\n",
    "result = perform_operation(operation, x, y)\n",
    "\n",
    "if result is not None:\n",
    "    print(f\"Result of {operation} operation on {x} and {y} is {result}\")\n",
    "else:\n",
    "    print(\"An error occurred. Check the log file for details.\")\n"
   ]
  },
  {
   "cell_type": "markdown",
   "metadata": {},
   "source": [
    "### **Logger-Handler**"
   ]
  },
  {
   "cell_type": "markdown",
   "metadata": {},
   "source": [
    "| **Aspect**            | **File Handler**                                                                                     | **Stream Handler**                                                                                 |\n",
    "|------------------------|-----------------------------------------------------------------------------------------------------|-----------------------------------------------------------------------------------------------------|\n",
    "| **Definition**         | Sends log messages to a file.                                                                       | Sends log messages to the console (stdout or stderr).                                              |\n",
    "| **Primary Use Case**   | Used to persist log messages for later review or debugging.                                         | Used for real-time log messages during application execution.                                      |\n",
    "| **Output Location**    | Writes logs to a specified file on the file system.                                                 | Outputs logs to the console or terminal window.                                                    |\n",
    "| **Persistence**        | Logs are saved for future reference, providing a historical record of application behavior.         | Logs are ephemeral and disappear once the console session ends.                                    |\n",
    "| **Configuration**      | Requires a file name and mode ('a' for append or 'w' for overwrite).                            | Does not require additional configuration, defaults to console output.                             |\n",
    "| **Performance**        | May have slightly higher I/O overhead due to file system writes, especially with high log volumes. | Minimal overhead as logs are streamed directly to the console.                                     |\n",
    "| **Examples of Use**    | - Long-term logging for audit trails<br>- Debugging in production systems<br>- Error reporting      | - Debugging during development<br>- Monitoring application status during runtime                   |\n",
    "| **Example Code**       | ```python<br>import logging<br>logging.basicConfig(filename='app.log', level=logging.DEBUG)<br>```  | ```python<br>import logging<br>logging.basicConfig(stream=sys.stdout, level=logging.DEBUG)<br>```  |\n"
   ]
  },
  {
   "cell_type": "code",
   "execution_count": 5,
   "metadata": {},
   "outputs": [],
   "source": [
    "import logging\n",
    "\n",
    "file_handler = logging.FileHandler('app.log')\n",
    "file_handler.setLevel(logging.DEBUG)\n",
    "formatter = logging.Formatter('%(name)s-%(asctime)s-%(levelname)s-%(message)s')\n",
    "file_handler.setFormatter(formatter)\n",
    "\n",
    "#logging.getLogger('')  #also we can use this ---> root\n",
    "logging.getLogger(__name__).addHandler(file_handler)"
   ]
  },
  {
   "cell_type": "code",
   "execution_count": 6,
   "metadata": {},
   "outputs": [],
   "source": [
    "import logging\n",
    "logging.basicConfig(\n",
    "    filename='app.log',\n",
    "    level=logging.DEBUG,\n",
    "    format='%(asctime)s-%(levelname)s-%(message)s',\n",
    "    force=True\n",
    ")\n",
    "\n",
    "# Create a file handler to log messages to a file\n",
    "file_handler = logging.FileHandler('app.log')\n",
    "file_handler.setLevel(logging.DEBUG)\n",
    "\n",
    "# Define a formatter for the log messages\n",
    "formatter = logging.Formatter('%(name)s-%(asctime)s-%(levelname)s-%(message)s')\n",
    "file_handler.setFormatter(formatter)\n",
    "\n",
    "# Get the logger for the current module (__name__) and add the handler\n",
    "logger = logging.getLogger('')\n",
    "logger.setLevel(logging.DEBUG)  # Ensure the logger's level is set to DEBUG\n",
    "logger.addHandler(file_handler)\n",
    "\n",
    "# Example usage\n",
    "#logger.debug(\"This is a debug message\")\n",
    "#logger.info(\"This is an info message\")\n"
   ]
  },
  {
   "cell_type": "code",
   "execution_count": 7,
   "metadata": {},
   "outputs": [],
   "source": [
    "logging.info(\"This is my main log\")\n",
    "logger1 = logging.getLogger(\"user1\")\n",
    "logger2 = logging.getLogger(\"user2\")\n",
    "logger1.info(\"This is my first message through user1\")\n",
    "logger2.debug(\"This is my second message through user2\")\n"
   ]
  },
  {
   "cell_type": "markdown",
   "metadata": {},
   "source": [
    "### **Stream-Handler**"
   ]
  },
  {
   "cell_type": "code",
   "execution_count": 8,
   "metadata": {},
   "outputs": [
    {
     "name": "stderr",
     "output_type": "stream",
     "text": [
      "root-2025-01-12 15:39:39,932-INFO-main message\n"
     ]
    }
   ],
   "source": [
    "import logging\n",
    "\n",
    "logging.basicConfig(\n",
    "    filename='app1.log',\n",
    "    level=logging.DEBUG,\n",
    "    format='%(asctime)s-%(levelname)s-%(message)s',\n",
    "    force=True\n",
    ")\n",
    "\n",
    "console_log = logging.StreamHandler()\n",
    "console_log.setLevel(logging.DEBUG)\n",
    "format = logging.Formatter('%(name)s-%(asctime)s-%(levelname)s-%(message)s')\n",
    "console_log.setFormatter(format)\n",
    "\n",
    "logging.getLogger('').addHandler(console_log)\n",
    "\n",
    "logging.info(\"main message\")\n",
    "\n",
    "#logger1 = logging.getLogger('user3')\n",
    "#logger1.info(\"This is for the user1\")"
   ]
  },
  {
   "cell_type": "code",
   "execution_count": 9,
   "metadata": {},
   "outputs": [
    {
     "name": "stderr",
     "output_type": "stream",
     "text": [
      "vikas-2025-01-12 15:39:39,957-INFO-I'm Learning Logging and debugging\n"
     ]
    }
   ],
   "source": [
    "logger2 = logging.getLogger('vikas')\n",
    "logger2.info(\"I'm Learning Logging and debugging\")"
   ]
  },
  {
   "cell_type": "markdown",
   "metadata": {},
   "source": [
    "# **Debugging**"
   ]
  },
  {
   "cell_type": "code",
   "execution_count": 10,
   "metadata": {},
   "outputs": [],
   "source": [
    "import ipdb"
   ]
  },
  {
   "cell_type": "code",
   "execution_count": 11,
   "metadata": {},
   "outputs": [
    {
     "name": "stdout",
     "output_type": "stream",
     "text": [
      "120\n"
     ]
    }
   ],
   "source": [
    "def sum1(n):\n",
    "    total = 0\n",
    "    for i in n:\n",
    "        total += i**2\n",
    "    return total\n",
    "\n",
    "\n",
    "num = [2,4,6,8]\n",
    "print(sum1(num))\n"
   ]
  },
  {
   "cell_type": "code",
   "execution_count": 13,
   "metadata": {},
   "outputs": [
    {
     "name": "stdout",
     "output_type": "stream",
     "text": [
      "> \u001b[1;32mc:\\users\\vikas\\appdata\\local\\temp\\ipykernel_11316\\378544449.py\u001b[0m(3)\u001b[0;36msum1\u001b[1;34m()\u001b[0m\n",
      "\n",
      "2\n",
      "4\n",
      "6\n",
      "8\n",
      "\n",
      "Documented commands (type help <topic>):\n",
      "========================================\n",
      "EOF    commands   enable      list      pinfo2   rv               unt   \n",
      "a      condition  exceptions  ll        pp       s                until \n",
      "alias  cont       exit        longlist  psource  skip_hidden      up    \n",
      "args   context    h           n         q        skip_predicates  w     \n",
      "b      continue   help        next      quit     source           whatis\n",
      "break  d          ignore      p         r        step             where \n",
      "bt     debug      interact    pdef      restart  tbreak         \n",
      "c      disable    j           pdoc      return   u              \n",
      "cl     display    jump        pfile     retval   unalias        \n",
      "clear  down       l           pinfo     run      undisplay      \n",
      "\n",
      "Miscellaneous help topics:\n",
      "==========================\n",
      "exec  pdb\n",
      "\n",
      "> \u001b[1;32mc:\\users\\vikas\\appdata\\local\\temp\\ipykernel_11316\\378544449.py\u001b[0m(4)\u001b[0;36msum1\u001b[1;34m()\u001b[0m\n",
      "\n",
      "> \u001b[1;32mc:\\users\\vikas\\appdata\\local\\temp\\ipykernel_11316\\378544449.py\u001b[0m(5)\u001b[0;36msum1\u001b[1;34m()\u001b[0m\n",
      "\n",
      "> \u001b[1;32mc:\\users\\vikas\\appdata\\local\\temp\\ipykernel_11316\\378544449.py\u001b[0m(4)\u001b[0;36msum1\u001b[1;34m()\u001b[0m\n",
      "\n",
      "> \u001b[1;32mc:\\users\\vikas\\appdata\\local\\temp\\ipykernel_11316\\378544449.py\u001b[0m(5)\u001b[0;36msum1\u001b[1;34m()\u001b[0m\n",
      "\n",
      "120\n"
     ]
    }
   ],
   "source": [
    "def sum1(n):\n",
    "    ipdb.set_trace()\n",
    "    total = 0\n",
    "    for i in n:\n",
    "        total += i**2\n",
    "    return total\n",
    "\n",
    "\n",
    "num = [2,4,6,8]\n",
    "print(sum1(num))\n"
   ]
  },
  {
   "cell_type": "code",
   "execution_count": 14,
   "metadata": {},
   "outputs": [
    {
     "name": "stdout",
     "output_type": "stream",
     "text": [
      "> \u001b[1;32mc:\\users\\vikas\\appdata\\local\\temp\\ipykernel_11316\\2424126958.py\u001b[0m(3)\u001b[0;36mtest\u001b[1;34m()\u001b[0m\n",
      "\n",
      "\n",
      "Documented commands (type help <topic>):\n",
      "========================================\n",
      "EOF    commands   enable      list      pinfo2   rv               unt   \n",
      "a      condition  exceptions  ll        pp       s                until \n",
      "alias  cont       exit        longlist  psource  skip_hidden      up    \n",
      "args   context    h           n         q        skip_predicates  w     \n",
      "b      continue   help        next      quit     source           whatis\n",
      "break  d          ignore      p         r        step             where \n",
      "bt     debug      interact    pdef      restart  tbreak         \n",
      "c      disable    j           pdoc      return   u              \n",
      "cl     display    jump        pfile     retval   unalias        \n",
      "clear  down       l           pinfo     run      undisplay      \n",
      "\n",
      "Miscellaneous help topics:\n",
      "==========================\n",
      "exec  pdb\n",
      "\n",
      "> \u001b[1;32mc:\\users\\vikas\\appdata\\local\\temp\\ipykernel_11316\\2424126958.py\u001b[0m(4)\u001b[0;36mtest\u001b[1;34m()\u001b[0m\n",
      "\n",
      "> \u001b[1;32mc:\\users\\vikas\\appdata\\local\\temp\\ipykernel_11316\\2424126958.py\u001b[0m(5)\u001b[0;36mtest\u001b[1;34m()\u001b[0m\n",
      "\n",
      "> \u001b[1;32mc:\\users\\vikas\\appdata\\local\\temp\\ipykernel_11316\\2424126958.py\u001b[0m(6)\u001b[0;36mtest\u001b[1;34m()\u001b[0m\n",
      "\n",
      "[0]\n",
      "> \u001b[1;32mc:\\users\\vikas\\appdata\\local\\temp\\ipykernel_11316\\2424126958.py\u001b[0m(4)\u001b[0;36mtest\u001b[1;34m()\u001b[0m\n",
      "\n",
      "> \u001b[1;32mc:\\users\\vikas\\appdata\\local\\temp\\ipykernel_11316\\2424126958.py\u001b[0m(5)\u001b[0;36mtest\u001b[1;34m()\u001b[0m\n",
      "\n",
      "[0, 1]\n",
      "[0, 1, 2]\n",
      "[0, 1, 2, 3]\n"
     ]
    },
    {
     "data": {
      "text/plain": [
       "[0, 1, 2, 3]"
      ]
     },
     "execution_count": 14,
     "metadata": {},
     "output_type": "execute_result"
    }
   ],
   "source": [
    "def test():\n",
    "    ipdb.set_trace()\n",
    "    l = []\n",
    "    for i in range(4):\n",
    "        l.append(i)\n",
    "        print(l)\n",
    "    return l\n",
    "\n",
    "test()"
   ]
  },
  {
   "cell_type": "code",
   "execution_count": 15,
   "metadata": {},
   "outputs": [
    {
     "name": "stdout",
     "output_type": "stream",
     "text": [
      "The End\n"
     ]
    }
   ],
   "source": [
    "print(\"The End\")"
   ]
  }
 ],
 "metadata": {
  "kernelspec": {
   "display_name": "Python 3",
   "language": "python",
   "name": "python3"
  },
  "language_info": {
   "codemirror_mode": {
    "name": "ipython",
    "version": 3
   },
   "file_extension": ".py",
   "mimetype": "text/x-python",
   "name": "python",
   "nbconvert_exporter": "python",
   "pygments_lexer": "ipython3",
   "version": "3.10.0"
  }
 },
 "nbformat": 4,
 "nbformat_minor": 2
}
