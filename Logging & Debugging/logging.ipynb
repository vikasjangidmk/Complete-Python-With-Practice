{
 "cells": [
  {
   "cell_type": "code",
   "execution_count": 1,
   "metadata": {},
   "outputs": [
    {
     "name": "stdout",
     "output_type": "stream",
     "text": [
      "None\n"
     ]
    }
   ],
   "source": [
    "import logging\n",
    "logging.basicConfig(filename=\"myfile.log\",\n",
    "                    level=logging.DEBUG, \n",
    "                    format= '%(asctime)s- %(levelname)s- %(message)s')\n",
    "\n",
    "def div(x,y):\n",
    "    \n",
    "    try:\n",
    "    \n",
    "        result = x/y\n",
    "        logging.info(f\"Division of {x} by {y}  is {result}\")\n",
    "    \n",
    "        return result\n",
    "    \n",
    "    except ZeroDivisionError as e:\n",
    "        logging.error(\"Division Error Occure\")\n",
    "\n",
    "x = 10\n",
    "y = 0\n",
    "result = div(x,y)\n",
    "print(result)"
   ]
  },
  {
   "cell_type": "code",
   "execution_count": 2,
   "metadata": {},
   "outputs": [
    {
     "name": "stdout",
     "output_type": "stream",
     "text": [
      "None\n",
      "Error aa gya\n"
     ]
    }
   ],
   "source": [
    "import logging\n",
    "logging.basicConfig(filename=\"myfile.log\",level=logging.DEBUG, format= '%(asctime)s-%(levelname)s-%(message)s')\n",
    "\n",
    "def div(x,y):\n",
    "    \n",
    "    try:\n",
    "    \n",
    "        result = x/y\n",
    "        logging.info(f\"Division of {x} by {y}  is {result}\")\n",
    "    \n",
    "        return result\n",
    "    \n",
    "    except ZeroDivisionError as e:\n",
    "        logging.error(\"Division Error Occure\")\n",
    "        return None\n",
    "x = 10\n",
    "y = 0\n",
    "result = div(x,y)\n",
    "print(result)\n",
    "\n",
    "if result is not None:\n",
    "    print(f\"result: {result}\")\n",
    "else:\n",
    "    print(\"Error aa gya\")"
   ]
  },
  {
   "cell_type": "code",
   "execution_count": 3,
   "metadata": {},
   "outputs": [
    {
     "name": "stdout",
     "output_type": "stream",
     "text": [
      "None\n",
      "Error aa gya\n"
     ]
    }
   ],
   "source": [
    "import logging\n",
    "logging.basicConfig(filename=\"myfile.log\",level=logging.DEBUG, format= logging.Formatter('%(asctime)s - %(levelname)s - %(message)s'))\n",
    "\n",
    "def div(x,y):\n",
    "    \n",
    "    try:\n",
    "    \n",
    "        result = x/y\n",
    "        logging.info(f\"Division of {x} by {y}  is {result}\")\n",
    "    \n",
    "        return result\n",
    "    \n",
    "    except ZeroDivisionError as e:\n",
    "        logging.error(\"Bhai Error aa rha h\")\n",
    "        return None\n",
    "x = 10\n",
    "y = 0\n",
    "result = div(x,y)\n",
    "print(result)\n",
    "\n",
    "if result is not None:\n",
    "    print(f\"result: {result}\")\n",
    "else:\n",
    "    print(\"Error aa gya\")"
   ]
  },
  {
   "cell_type": "code",
   "execution_count": 4,
   "metadata": {},
   "outputs": [],
   "source": [
    "#logging.Formatter('%(asctime)s - %(levelname)s - %(message)s')\n",
    "#format= '%(asctime)s-%(levelname)s-%(message)s'"
   ]
  }
 ],
 "metadata": {
  "kernelspec": {
   "display_name": "Python 3",
   "language": "python",
   "name": "python3"
  },
  "language_info": {
   "codemirror_mode": {
    "name": "ipython",
    "version": 3
   },
   "file_extension": ".py",
   "mimetype": "text/x-python",
   "name": "python",
   "nbconvert_exporter": "python",
   "pygments_lexer": "ipython3",
   "version": "3.10.0"
  }
 },
 "nbformat": 4,
 "nbformat_minor": 2
}
